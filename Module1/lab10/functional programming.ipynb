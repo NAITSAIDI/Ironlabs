{
 "cells": [
  {
   "cell_type": "code",
   "execution_count": null,
   "id": "b02a3b1e",
   "metadata": {},
   "outputs": [],
   "source": [
    "# Challenge 1\n",
    "#Counting Sheep "
   ]
  },
  {
   "cell_type": "code",
   "execution_count": 7,
   "id": "a1b0adb7",
   "metadata": {},
   "outputs": [
    {
     "data": {
      "text/plain": [
       "17"
      ]
     },
     "execution_count": 7,
     "metadata": {},
     "output_type": "execute_result"
    }
   ],
   "source": [
    "def Count_Sheep(list_sheep):\n",
    "    i=0\n",
    "    for element in list_sheep:\n",
    "        if element==True:\n",
    "            i+=1\n",
    "        else:\n",
    "            continue\n",
    "    return i\n",
    "\n",
    "sheep=[True,  True,  True,  False, True,  True,  True,  True ,True,\n",
    "       False, True,  False, True,  False, False, True ,True,  True,\n",
    "       True,  True ,False, False, True,  True]\n",
    "Count_Sheep (sheep)"
   ]
  },
  {
   "cell_type": "markdown",
   "id": "6d195e0e",
   "metadata": {},
   "source": [
    "##### "
   ]
  },
  {
   "cell_type": "code",
   "execution_count": 15,
   "id": "a26c7c62",
   "metadata": {},
   "outputs": [],
   "source": [
    "#Take an array and remove every second element from the array. Always keep the first element and start removing with the next element.\n",
    "\n",
    "#Example:\n",
    "#[\"Keep\", \"Remove\", \"Keep\", \"Remove\", \"Keep\", ...] --> [\"Keep\", \"Keep\", \"Keep\", ...]"
   ]
  },
  {
   "cell_type": "code",
   "execution_count": 25,
   "id": "2687b276",
   "metadata": {},
   "outputs": [
    {
     "name": "stdout",
     "output_type": "stream",
     "text": [
      "['Keep', 'Keep', 'Keep']\n"
     ]
    }
   ],
   "source": [
    "my_list = ['Keep', 'Remove', 'Keep', 'Remove', 'Keep']\n",
    "my_list2 = []\n",
    "for i in range (0, len(my_list)):\n",
    "    if i % 2 != 1:\n",
    "        my_list2.append(my_list[i])\n",
    "print(my_list2)"
   ]
  },
  {
   "cell_type": "code",
   "execution_count": 17,
   "id": "1cb35c04",
   "metadata": {},
   "outputs": [
    {
     "name": "stdout",
     "output_type": "stream",
     "text": [
      "['Keep', 'Keep', 'Keep']\n"
     ]
    }
   ],
   "source": [
    "my_list = ['Keep', 'Remove', 'Keep', 'Remove', 'Keep']\n",
    "my_list2 = []\n",
    "for i in range (0, len(my_list)):\n",
    "    if i % 2 != 1:\n",
    "        my_list2.append(my_list[i])\n",
    "print(my_list2)"
   ]
  },
  {
   "cell_type": "code",
   "execution_count": null,
   "id": "411d0497",
   "metadata": {},
   "outputs": [],
   "source": [
    "#Convert number to reversed array of digits"
   ]
  },
  {
   "cell_type": "code",
   "execution_count": 24,
   "id": "7cefa9b2",
   "metadata": {},
   "outputs": [
    {
     "name": "stdout",
     "output_type": "stream",
     "text": [
      "['3', '4', '8', '5', '9', '7']\n",
      "['7', '9', '5', '8', '4', '3']\n"
     ]
    }
   ],
   "source": [
    "num =\"348597\"\n",
    "list_num = []\n",
    "for i in range(0, len(num)):\n",
    "    list_num.append(num[i])\n",
    "print(list_num)\n",
    "print(list_num[::-1])"
   ]
  },
  {
   "cell_type": "code",
   "execution_count": null,
   "id": "a3d560ed",
   "metadata": {},
   "outputs": [],
   "source": [
    "# In this kata, you are asked to square every digit of a number and concatenate them.\n",
    "\n",
    "#For example, if we run 9119 through the function, 811181 will come out, because 92 is 81 and 12 is 1.\n",
    "\n",
    "#Note: The function accepts an integer and returns an integer\n",
    "\n"
   ]
  },
  {
   "cell_type": "code",
   "execution_count": 23,
   "id": "2f6a160c",
   "metadata": {},
   "outputs": [
    {
     "name": "stdout",
     "output_type": "stream",
     "text": [
      "811181\n"
     ]
    }
   ],
   "source": [
    "num = \"9119\"\n",
    "list_num = []\n",
    "str1=\"\"\n",
    "for i in range(0, len(num)):\n",
    "    list_num.append(int(num[i])**2)\n",
    "    \n",
    "for i in list_num:\n",
    "    str1=str1 +str(i)\n",
    "print(str1)"
   ]
  },
  {
   "cell_type": "code",
   "execution_count": null,
   "id": "0212a7ce",
   "metadata": {},
   "outputs": [],
   "source": []
  }
 ],
 "metadata": {
  "kernelspec": {
   "display_name": "Python 3 (ipykernel)",
   "language": "python",
   "name": "python3"
  },
  "language_info": {
   "codemirror_mode": {
    "name": "ipython",
    "version": 3
   },
   "file_extension": ".py",
   "mimetype": "text/x-python",
   "name": "python",
   "nbconvert_exporter": "python",
   "pygments_lexer": "ipython3",
   "version": "3.9.12"
  }
 },
 "nbformat": 4,
 "nbformat_minor": 5
}
