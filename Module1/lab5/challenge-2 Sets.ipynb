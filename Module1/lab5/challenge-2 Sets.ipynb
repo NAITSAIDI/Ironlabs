{
 "cells": [
  {
   "cell_type": "markdown",
   "metadata": {},
   "source": [
    "## Challenge 2: Sets\n",
    "\n",
    "There are a lot to learn about Python Sets and the information presented in the lesson is limited due to its length. To learn Python Sets in depth you are strongly encouraged to review the W3Schools tutorial on [Python Sets Examples and Methods](https://www.w3schools.com/python/python_sets.asp) before you work on this lab. Some difficult questions in this lab have their solutions in the W3Schools tutorial.\n",
    "\n",
    "#### First, import the Python `random` library."
   ]
  },
  {
   "cell_type": "code",
   "execution_count": 3,
   "metadata": {},
   "outputs": [],
   "source": [
    "import random"
   ]
  },
  {
   "cell_type": "markdown",
   "metadata": {},
   "source": [
    "#### In the cell below, create a list named `sample_list_1` with 80 random values. \n",
    "\n",
    "Requirements:\n",
    "\n",
    "* Each value is an integer falling between 0 and 100.\n",
    "* Each value in the list is unique.\n",
    "\n",
    "Print `sample_list_1` to review its values\n",
    "\n",
    "*Hint: use `random.sample` ([reference](https://docs.python.org/3/library/random.html#random.sample)).*"
   ]
  },
  {
   "cell_type": "code",
   "execution_count": 7,
   "metadata": {},
   "outputs": [
    {
     "data": {
      "text/plain": [
       "[99,\n",
       " 78,\n",
       " 70,\n",
       " 66,\n",
       " 89,\n",
       " 57,\n",
       " 72,\n",
       " 15,\n",
       " 95,\n",
       " 92,\n",
       " 16,\n",
       " 28,\n",
       " 19,\n",
       " 81,\n",
       " 29,\n",
       " 24,\n",
       " 47,\n",
       " 45,\n",
       " 39,\n",
       " 14,\n",
       " 65,\n",
       " 50,\n",
       " 11,\n",
       " 14,\n",
       " 80,\n",
       " 96,\n",
       " 2,\n",
       " 73,\n",
       " 93,\n",
       " 32,\n",
       " 28,\n",
       " 68,\n",
       " 6,\n",
       " 76,\n",
       " 88,\n",
       " 67,\n",
       " 44,\n",
       " 1,\n",
       " 65,\n",
       " 48,\n",
       " 1,\n",
       " 87,\n",
       " 5,\n",
       " 62,\n",
       " 3,\n",
       " 97,\n",
       " 27,\n",
       " 26,\n",
       " 91,\n",
       " 80,\n",
       " 100,\n",
       " 2,\n",
       " 87,\n",
       " 14,\n",
       " 69,\n",
       " 27,\n",
       " 63,\n",
       " 19,\n",
       " 73,\n",
       " 34,\n",
       " 86,\n",
       " 25,\n",
       " 12,\n",
       " 23,\n",
       " 74,\n",
       " 81,\n",
       " 14,\n",
       " 11,\n",
       " 58,\n",
       " 65,\n",
       " 36,\n",
       " 61,\n",
       " 1,\n",
       " 15,\n",
       " 28,\n",
       " 55,\n",
       " 43,\n",
       " 20,\n",
       " 19,\n",
       " 67]"
      ]
     },
     "execution_count": 7,
     "metadata": {},
     "output_type": "execute_result"
    }
   ],
   "source": [
    "# Your code here\n",
    "sample_list_1= [random.randint(0,100) for i in range(0,80)]\n",
    "sample_list_1"
   ]
  },
  {
   "cell_type": "markdown",
   "metadata": {},
   "source": [
    "#### Convert `sample_list_1` to a set called `set1`. Print the length of the set. Is its length still 80?"
   ]
  },
  {
   "cell_type": "code",
   "execution_count": 13,
   "metadata": {},
   "outputs": [
    {
     "name": "stdout",
     "output_type": "stream",
     "text": [
      "{1, 2, 3, 5, 6, 11, 12, 14, 15, 16, 19, 20, 23, 24, 25, 26, 27, 28, 29, 32, 34, 36, 39, 43, 44, 45, 47, 48, 50, 55, 57, 58, 61, 62, 63, 65, 66, 67, 68, 69, 70, 72, 73, 74, 76, 78, 80, 81, 86, 87, 88, 89, 91, 92, 93, 95, 96, 97, 99, 100}\n"
     ]
    },
    {
     "data": {
      "text/plain": [
       "60"
      ]
     },
     "execution_count": 13,
     "metadata": {},
     "output_type": "execute_result"
    }
   ],
   "source": [
    "# Your code here\n",
    "set1=set(sample_list_1)\n",
    "print (set1)\n",
    "len(set1)\n",
    "# Not 80 because it removed the repeated values. "
   ]
  },
  {
   "cell_type": "markdown",
   "metadata": {},
   "source": [
    "#### Create another list named `sample_list_2` with 80 random values.\n",
    "\n",
    "Requirements:\n",
    "\n",
    "* Each value is an integer falling between 0 and 100.\n",
    "* The values in the list don't have to be unique.\n",
    "\n",
    "*Hint: Use a FOR loop.*"
   ]
  },
  {
   "cell_type": "code",
   "execution_count": 14,
   "metadata": {},
   "outputs": [
    {
     "name": "stdout",
     "output_type": "stream",
     "text": [
      "[52, 95, 69, 49, 7, 55, 1, 70, 82, 33, 0, 5, 74, 58, 89, 80, 72, 77, 66, 39, 82, 59, 14, 6, 0, 90, 96, 56, 52, 24, 64, 90, 13, 13, 68, 1, 55, 11, 41, 20, 52, 54, 35, 2, 44, 83, 0, 78, 63, 34, 75, 72, 31, 71, 4, 31, 68, 8, 87, 89, 43, 86, 42, 57, 68, 7, 34, 90, 56, 66, 84, 28, 35, 68, 51, 53, 40, 4, 14, 48]\n"
     ]
    }
   ],
   "source": [
    "# Your code here\n",
    "import random\n",
    " \n",
    "sample_list2=[]\n",
    "n=80\n",
    "for i in range(n):\n",
    "    sample_list2.append(random.randint(0,100))\n",
    "print(sample_list2)"
   ]
  },
  {
   "cell_type": "markdown",
   "metadata": {},
   "source": [
    "#### Convert `sample_list_2` to a set called `set2`. Print the length of the set. Is its length still 80?"
   ]
  },
  {
   "cell_type": "code",
   "execution_count": 17,
   "metadata": {},
   "outputs": [
    {
     "name": "stdout",
     "output_type": "stream",
     "text": [
      "{0, 1, 2, 4, 5, 6, 7, 8, 11, 13, 14, 20, 24, 28, 31, 33, 34, 35, 39, 40, 41, 42, 43, 44, 48, 49, 51, 52, 53, 54, 55, 56, 57, 58, 59, 63, 64, 66, 68, 69, 70, 71, 72, 74, 75, 77, 78, 80, 82, 83, 84, 86, 87, 89, 90, 95, 96}\n"
     ]
    },
    {
     "data": {
      "text/plain": [
       "57"
      ]
     },
     "execution_count": 17,
     "metadata": {},
     "output_type": "execute_result"
    }
   ],
   "source": [
    "# Your code here\n",
    "set2= set(sample_list2)\n",
    "print(set2)\n",
    "len(set2)"
   ]
  },
  {
   "cell_type": "markdown",
   "metadata": {},
   "source": [
    "#### Identify the elements present in `set1` but not in `set2`. Assign the elements to a new set named `set3`."
   ]
  },
  {
   "cell_type": "code",
   "execution_count": 45,
   "metadata": {},
   "outputs": [
    {
     "name": "stdout",
     "output_type": "stream",
     "text": [
      "{3, 12, 15, 16, 19, 23, 25, 26, 27, 29, 32, 36, 45, 47, 50, 61, 62, 65, 67, 73, 76, 81, 88, 91, 92, 93, 97, 99, 100}\n"
     ]
    }
   ],
   "source": [
    "\n",
    "# Your code here\n",
    "set3=set()\n",
    "for i in set1:\n",
    "    if i not in set2:\n",
    "        set3.add(i)\n",
    "print(set3)"
   ]
  },
  {
   "cell_type": "markdown",
   "metadata": {},
   "source": [
    "#### Identify the elements present in `set2` but not in `set1`. Assign the elements to a new set named `set4`."
   ]
  },
  {
   "cell_type": "code",
   "execution_count": 25,
   "metadata": {},
   "outputs": [
    {
     "name": "stdout",
     "output_type": "stream",
     "text": [
      "[0, 4, 7, 8, 13, 31, 33, 35, 40, 41, 42, 49, 51, 52, 53, 54, 56, 59, 64, 71, 75, 77, 82, 83, 84, 90]\n"
     ]
    }
   ],
   "source": [
    "# Your code here\n",
    "set4=[]\n",
    "for item in set2:\n",
    "    if item not in set1:\n",
    "        set4.append(item)\n",
    "print(set4)\n"
   ]
  },
  {
   "cell_type": "markdown",
   "metadata": {},
   "source": [
    "#### Now Identify the elements shared between `set1` and `set2`. Assign the elements to a new set named `set5`."
   ]
  },
  {
   "cell_type": "code",
   "execution_count": 26,
   "metadata": {},
   "outputs": [
    {
     "name": "stdout",
     "output_type": "stream",
     "text": [
      "{1, 2, 5, 6, 11, 14, 20, 24, 28, 34, 39, 43, 44, 48, 55, 57, 58, 63, 66, 68, 69, 70, 72, 74, 78, 80, 86, 87, 89, 95, 96}\n"
     ]
    }
   ],
   "source": [
    "# Your code here\n",
    "set5 = set1.intersection(set2)\n",
    "print(set5)\n"
   ]
  },
  {
   "cell_type": "markdown",
   "metadata": {},
   "source": [
    "#### What is the relationship among the following values:\n",
    "\n",
    "* len(set1)\n",
    "* len(set2)\n",
    "* len(set3)\n",
    "* len(set4)\n",
    "* len(set5)\n",
    "\n",
    "Use a math formular to represent that relationship. Test your formular with Python code."
   ]
  },
  {
   "cell_type": "code",
   "execution_count": 37,
   "metadata": {},
   "outputs": [
    {
     "name": "stdout",
     "output_type": "stream",
     "text": [
      "60\n",
      "57\n",
      "29\n",
      "26\n",
      "31\n"
     ]
    },
    {
     "data": {
      "text/plain": [
       "True"
      ]
     },
     "execution_count": 37,
     "metadata": {},
     "output_type": "execute_result"
    }
   ],
   "source": [
    "# Your code here\n",
    "print(len(set1))\n",
    "print(len(set2))\n",
    "print(len(set3))\n",
    "print(len(set4))\n",
    "print(len(set5))\n",
    "\n",
    "len(set1)==len(set5)+len(set3)"
   ]
  },
  {
   "cell_type": "markdown",
   "metadata": {},
   "source": [
    "#### Create an empty set called `set6`."
   ]
  },
  {
   "cell_type": "code",
   "execution_count": 42,
   "metadata": {},
   "outputs": [
    {
     "name": "stdout",
     "output_type": "stream",
     "text": [
      "<class 'set'>\n",
      "set()\n"
     ]
    }
   ],
   "source": [
    "# Your code here\n",
    "set6 = set()\n",
    "print(type(set6))\n",
    "print(set6)\n"
   ]
  },
  {
   "cell_type": "markdown",
   "metadata": {},
   "source": [
    "#### Add `set3` and `set5` to `set6` using the Python Set `update` method."
   ]
  },
  {
   "cell_type": "code",
   "execution_count": 41,
   "metadata": {},
   "outputs": [
    {
     "name": "stdout",
     "output_type": "stream",
     "text": [
      "{1, 2, 3, 5, 6, 11, 12, 14, 15, 16, 19, 20, 23, 24, 25, 26, 27, 28, 29, 32, 34, 36, 39, 43, 44, 45, 47, 48, 50, 55, 57, 58, 61, 62, 63, 65, 66, 67, 68, 69, 70, 72, 73, 74, 76, 78, 80, 81, 86, 87, 88, 89, 91, 92, 93, 95, 96, 97, 99, 100}\n"
     ]
    }
   ],
   "source": [
    "\n",
    "set6.update(set3,set5)\n",
    "print(set6)\n"
   ]
  },
  {
   "cell_type": "markdown",
   "metadata": {},
   "source": [
    "#### Check if `set1` and `set6` are equal."
   ]
  },
  {
   "cell_type": "code",
   "execution_count": 33,
   "metadata": {},
   "outputs": [
    {
     "name": "stdout",
     "output_type": "stream",
     "text": [
      "True\n"
     ]
    }
   ],
   "source": [
    "print(set1==set6)\n"
   ]
  },
  {
   "cell_type": "code",
   "execution_count": null,
   "metadata": {},
   "outputs": [],
   "source": [
    "#Check if `set1` contains `set2` using the Python Set `issubset` method. Then check if `set1` contains `set3`.*"
   ]
  },
  {
   "cell_type": "code",
   "execution_count": 46,
   "metadata": {},
   "outputs": [
    {
     "name": "stdout",
     "output_type": "stream",
     "text": [
      "False\n",
      "True\n"
     ]
    }
   ],
   "source": [
    "# Your code here\n",
    "print(set2.issubset(set1))\n",
    "print(set3.issubset(set1))"
   ]
  },
  {
   "cell_type": "markdown",
   "metadata": {},
   "source": [
    "#### Using the Python Set `union` method, aggregate `set3`, `set4`, and `set5`. Then aggregate `set1` and `set2`. \n",
    "\n",
    "#### Check if the aggregated values are equal."
   ]
  },
  {
   "cell_type": "code",
   "execution_count": 47,
   "metadata": {},
   "outputs": [
    {
     "name": "stdout",
     "output_type": "stream",
     "text": [
      "True\n"
     ]
    }
   ],
   "source": [
    "# Your code here\n",
    "setx=set3.union(set4)\n",
    "setu=setx.union(set5)\n",
    "setz=set1.union(set2)\n",
    "print(setu==setz)"
   ]
  },
  {
   "cell_type": "markdown",
   "metadata": {},
   "source": [
    "#### Using the `pop` method, remove the first element from `set1`."
   ]
  },
  {
   "cell_type": "code",
   "execution_count": 48,
   "metadata": {},
   "outputs": [
    {
     "data": {
      "text/plain": [
       "59"
      ]
     },
     "execution_count": 48,
     "metadata": {},
     "output_type": "execute_result"
    }
   ],
   "source": [
    "# Your code here\n",
    "set1.pop()\n",
    "len(set1)"
   ]
  },
  {
   "cell_type": "markdown",
   "metadata": {},
   "source": [
    "#### Remove every element in the following list from `set1` if they are present in the set. Print the remaining elements.\n",
    "\n",
    "```\n",
    "list_to_remove = [1, 9, 11, 19, 21, 29, 31, 39, 41, 49, 51, 59, 61, 69, 71, 79, 81, 89, 91, 99]\n",
    "```"
   ]
  },
  {
   "cell_type": "code",
   "execution_count": 49,
   "metadata": {},
   "outputs": [
    {
     "name": "stdout",
     "output_type": "stream",
     "text": [
      "{2, 3, 5, 6, 12, 14, 15, 16, 20, 23, 24, 25, 26, 27, 28, 32, 34, 36, 43, 44, 45, 47, 48, 50, 55, 57, 58, 62, 63, 65, 66, 67, 68, 70, 72, 73, 74, 76, 78, 80, 86, 87, 88, 92, 93, 95, 96, 97, 100}\n"
     ]
    }
   ],
   "source": [
    "# Your code here\n",
    "list_to_remove = [1, 9, 11, 19, 21, 29, 31, 39, 41, 49, 51, 59, 61, 69, 71, 79, 81, 89, 91, 99]\n",
    "for l in list_to_remove:\n",
    "    if l in set1:\n",
    "        set1.remove(l)\n",
    "print(set1)"
   ]
  },
  {
   "cell_type": "code",
   "execution_count": null,
   "metadata": {},
   "outputs": [],
   "source": []
  }
 ],
 "metadata": {
  "kernelspec": {
   "display_name": "Python 3 (ipykernel)",
   "language": "python",
   "name": "python3"
  },
  "language_info": {
   "codemirror_mode": {
    "name": "ipython",
    "version": 3
   },
   "file_extension": ".py",
   "mimetype": "text/x-python",
   "name": "python",
   "nbconvert_exporter": "python",
   "pygments_lexer": "ipython3",
   "version": "3.9.12"
  }
 },
 "nbformat": 4,
 "nbformat_minor": 2
}
