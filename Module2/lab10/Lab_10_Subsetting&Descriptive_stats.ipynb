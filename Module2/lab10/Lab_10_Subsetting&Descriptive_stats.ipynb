{
  "cells": [
    {
      "cell_type": "markdown",
      "metadata": {
        "id": "GvvttUsi_BFg"
      },
      "source": [
        "# Subsetting and Descriptive Stats\n",
        "\n",
        "## Before your start:\n",
        "   - Remember that you just need to do one of the challenges.\n",
        "   - Keep in mind that you need to use some of the functions you learned in the previous lessons.\n",
        "   - All datasets are provided in IronHack's database.\n",
        "   - Elaborate your codes and outputs as much as you can.\n",
        "   - Try your best to answer the questions and complete the tasks and most importantly: enjoy the process!\n",
        "   \n",
        "#### Import all the necessary libraries here:"
      ]
    },
    {
      "cell_type": "code",
      "execution_count": null,
      "metadata": {
        "id": "F7Ak8qiW_BFi"
      },
      "outputs": [],
      "source": [
        "# import libraries here\n",
        "import pandas as pd\n",
        "import numpy as np\n"
      ]
    },
    {
      "cell_type": "markdown",
      "metadata": {
        "id": "80oh-AFB_BFj"
      },
      "source": [
        "# Challenge 1\n",
        "#### In this challenge we will use the `Temp_States`  dataset. \n",
        "\n",
        "#### First import it into a dataframe called `temp`."
      ]
    },
    {
      "cell_type": "code",
      "execution_count": null,
      "metadata": {
        "id": "dS38lBzp_BFj"
      },
      "outputs": [],
      "source": [
        "# your code here\n",
        "temp=pd.read_csv('Temp_States.csv')"
      ]
    },
    {
      "cell_type": "markdown",
      "metadata": {
        "id": "SMWxJwbF_BFj"
      },
      "source": [
        "#### Print `temp`."
      ]
    },
    {
      "cell_type": "code",
      "execution_count": null,
      "metadata": {
        "id": "WHi6SL7u_BFk",
        "outputId": "7f0405bc-fa8b-4a1c-999a-a2ba45cb72eb"
      },
      "outputs": [
        {
          "data": {
            "text/html": [
              "<div>\n",
              "<style scoped>\n",
              "    .dataframe tbody tr th:only-of-type {\n",
              "        vertical-align: middle;\n",
              "    }\n",
              "\n",
              "    .dataframe tbody tr th {\n",
              "        vertical-align: top;\n",
              "    }\n",
              "\n",
              "    .dataframe thead th {\n",
              "        text-align: right;\n",
              "    }\n",
              "</style>\n",
              "<table border=\"1\" class=\"dataframe\">\n",
              "  <thead>\n",
              "    <tr style=\"text-align: right;\">\n",
              "      <th></th>\n",
              "      <th>City</th>\n",
              "      <th>State</th>\n",
              "      <th>Temperature</th>\n",
              "    </tr>\n",
              "  </thead>\n",
              "  <tbody>\n",
              "    <tr>\n",
              "      <td>0</td>\n",
              "      <td>NYC</td>\n",
              "      <td>New York</td>\n",
              "      <td>19.444444</td>\n",
              "    </tr>\n",
              "    <tr>\n",
              "      <td>1</td>\n",
              "      <td>Albany</td>\n",
              "      <td>New York</td>\n",
              "      <td>9.444444</td>\n",
              "    </tr>\n",
              "    <tr>\n",
              "      <td>2</td>\n",
              "      <td>Buffalo</td>\n",
              "      <td>New York</td>\n",
              "      <td>3.333333</td>\n",
              "    </tr>\n",
              "    <tr>\n",
              "      <td>3</td>\n",
              "      <td>Hartford</td>\n",
              "      <td>Connecticut</td>\n",
              "      <td>17.222222</td>\n",
              "    </tr>\n",
              "    <tr>\n",
              "      <td>4</td>\n",
              "      <td>Bridgeport</td>\n",
              "      <td>Connecticut</td>\n",
              "      <td>14.444444</td>\n",
              "    </tr>\n",
              "  </tbody>\n",
              "</table>\n",
              "</div>"
            ],
            "text/plain": [
              "         City        State  Temperature\n",
              "0         NYC     New York    19.444444\n",
              "1      Albany     New York     9.444444\n",
              "2     Buffalo     New York     3.333333\n",
              "3    Hartford  Connecticut    17.222222\n",
              "4  Bridgeport  Connecticut    14.444444"
            ]
          },
          "execution_count": 4,
          "metadata": {},
          "output_type": "execute_result"
        }
      ],
      "source": [
        "# your code here\n",
        "temp.head()"
      ]
    },
    {
      "cell_type": "markdown",
      "metadata": {
        "id": "41wqOt21_BFk"
      },
      "source": [
        "#### Explore the data types of the *temp* dataframe. What types of data do we have? Comment your result."
      ]
    },
    {
      "cell_type": "code",
      "execution_count": null,
      "metadata": {
        "id": "-KrYO9sh_BFk",
        "outputId": "ff6af0ae-7a4a-40e2-f34b-a272eb46e335"
      },
      "outputs": [
        {
          "data": {
            "text/plain": [
              "City            object\n",
              "State           object\n",
              "Temperature    float64\n",
              "dtype: object"
            ]
          },
          "execution_count": 8,
          "metadata": {},
          "output_type": "execute_result"
        }
      ],
      "source": [
        "# your code here\n",
        "temp.dtypes"
      ]
    },
    {
      "cell_type": "code",
      "execution_count": null,
      "metadata": {
        "id": "aENRXnlK_BFk",
        "outputId": "daee3d56-e922-47f7-cd8e-76f3f4058635"
      },
      "outputs": [
        {
          "data": {
            "text/plain": [
              "'\\nCity and State contain strings while Temperature contains floats\\n'"
            ]
          },
          "execution_count": 10,
          "metadata": {},
          "output_type": "execute_result"
        }
      ],
      "source": [
        "\"\"\"\n",
        "City and State contain strings while Temperature contains floats\n",
        "\"\"\""
      ]
    },
    {
      "cell_type": "markdown",
      "metadata": {
        "id": "Uo6G77am_BFl"
      },
      "source": [
        "#### Select the rows where state is New York."
      ]
    },
    {
      "cell_type": "code",
      "execution_count": null,
      "metadata": {
        "id": "bOuY5gD7_BFl",
        "outputId": "69dce54f-a131-4aba-bafb-7d181ad66a7f"
      },
      "outputs": [
        {
          "data": {
            "text/html": [
              "<div>\n",
              "<style scoped>\n",
              "    .dataframe tbody tr th:only-of-type {\n",
              "        vertical-align: middle;\n",
              "    }\n",
              "\n",
              "    .dataframe tbody tr th {\n",
              "        vertical-align: top;\n",
              "    }\n",
              "\n",
              "    .dataframe thead th {\n",
              "        text-align: right;\n",
              "    }\n",
              "</style>\n",
              "<table border=\"1\" class=\"dataframe\">\n",
              "  <thead>\n",
              "    <tr style=\"text-align: right;\">\n",
              "      <th></th>\n",
              "      <th>City</th>\n",
              "      <th>State</th>\n",
              "      <th>Temperature</th>\n",
              "    </tr>\n",
              "  </thead>\n",
              "  <tbody>\n",
              "    <tr>\n",
              "      <td>0</td>\n",
              "      <td>NYC</td>\n",
              "      <td>New York</td>\n",
              "      <td>19.444444</td>\n",
              "    </tr>\n",
              "    <tr>\n",
              "      <td>1</td>\n",
              "      <td>Albany</td>\n",
              "      <td>New York</td>\n",
              "      <td>9.444444</td>\n",
              "    </tr>\n",
              "    <tr>\n",
              "      <td>2</td>\n",
              "      <td>Buffalo</td>\n",
              "      <td>New York</td>\n",
              "      <td>3.333333</td>\n",
              "    </tr>\n",
              "  </tbody>\n",
              "</table>\n",
              "</div>"
            ],
            "text/plain": [
              "      City     State  Temperature\n",
              "0      NYC  New York    19.444444\n",
              "1   Albany  New York     9.444444\n",
              "2  Buffalo  New York     3.333333"
            ]
          },
          "execution_count": 12,
          "metadata": {},
          "output_type": "execute_result"
        }
      ],
      "source": [
        "# your code here\n",
        "temp[temp['State'] == 'New York']"
      ]
    },
    {
      "cell_type": "markdown",
      "metadata": {
        "id": "6jTojjBh_BFl"
      },
      "source": [
        "#### What is the average temperature of cities in New York?"
      ]
    },
    {
      "cell_type": "code",
      "execution_count": null,
      "metadata": {
        "id": "27HoylgH_BFl",
        "outputId": "b585bbcc-3bb7-4d7a-9464-3292f1e4a359"
      },
      "outputs": [
        {
          "data": {
            "text/plain": [
              "Temperature    10.740741\n",
              "dtype: float64"
            ]
          },
          "execution_count": 13,
          "metadata": {},
          "output_type": "execute_result"
        }
      ],
      "source": [
        "# your code here\n",
        "temp[temp['State'] == 'New York'].mean()"
      ]
    },
    {
      "cell_type": "markdown",
      "metadata": {
        "id": "1CxjIud2_BFm"
      },
      "source": [
        "#### Which states and cities have a temperature above 15 degrees Celsius?"
      ]
    },
    {
      "cell_type": "code",
      "execution_count": null,
      "metadata": {
        "id": "aAtSTF51_BFm",
        "outputId": "2b461c63-2c66-4721-94c4-ad74c37888f2"
      },
      "outputs": [
        {
          "data": {
            "text/html": [
              "<div>\n",
              "<style scoped>\n",
              "    .dataframe tbody tr th:only-of-type {\n",
              "        vertical-align: middle;\n",
              "    }\n",
              "\n",
              "    .dataframe tbody tr th {\n",
              "        vertical-align: top;\n",
              "    }\n",
              "\n",
              "    .dataframe thead th {\n",
              "        text-align: right;\n",
              "    }\n",
              "</style>\n",
              "<table border=\"1\" class=\"dataframe\">\n",
              "  <thead>\n",
              "    <tr style=\"text-align: right;\">\n",
              "      <th></th>\n",
              "      <th>City</th>\n",
              "      <th>State</th>\n",
              "    </tr>\n",
              "  </thead>\n",
              "  <tbody>\n",
              "    <tr>\n",
              "      <td>0</td>\n",
              "      <td>NYC</td>\n",
              "      <td>New York</td>\n",
              "    </tr>\n",
              "    <tr>\n",
              "      <td>3</td>\n",
              "      <td>Hartford</td>\n",
              "      <td>Connecticut</td>\n",
              "    </tr>\n",
              "    <tr>\n",
              "      <td>5</td>\n",
              "      <td>Treton</td>\n",
              "      <td>New Jersey</td>\n",
              "    </tr>\n",
              "    <tr>\n",
              "      <td>6</td>\n",
              "      <td>Newark</td>\n",
              "      <td>New Jersey</td>\n",
              "    </tr>\n",
              "  </tbody>\n",
              "</table>\n",
              "</div>"
            ],
            "text/plain": [
              "       City        State\n",
              "0       NYC     New York\n",
              "3  Hartford  Connecticut\n",
              "5    Treton   New Jersey\n",
              "6    Newark   New Jersey"
            ]
          },
          "execution_count": 17,
          "metadata": {},
          "output_type": "execute_result"
        }
      ],
      "source": [
        "# your code here\n",
        "temp[temp['Temperature'] > 15][['City', 'State']]"
      ]
    },
    {
      "cell_type": "markdown",
      "metadata": {
        "id": "SLg3ijXJ_BFm"
      },
      "source": [
        "#### Now, return only the cities that have a temperature above 15 degrees Celsius."
      ]
    },
    {
      "cell_type": "code",
      "execution_count": null,
      "metadata": {
        "id": "8goJJjyC_BFm",
        "outputId": "d902f398-543b-42da-bde5-438cfba77580"
      },
      "outputs": [
        {
          "data": {
            "text/html": [
              "<div>\n",
              "<style scoped>\n",
              "    .dataframe tbody tr th:only-of-type {\n",
              "        vertical-align: middle;\n",
              "    }\n",
              "\n",
              "    .dataframe tbody tr th {\n",
              "        vertical-align: top;\n",
              "    }\n",
              "\n",
              "    .dataframe thead th {\n",
              "        text-align: right;\n",
              "    }\n",
              "</style>\n",
              "<table border=\"1\" class=\"dataframe\">\n",
              "  <thead>\n",
              "    <tr style=\"text-align: right;\">\n",
              "      <th></th>\n",
              "      <th>City</th>\n",
              "    </tr>\n",
              "  </thead>\n",
              "  <tbody>\n",
              "    <tr>\n",
              "      <td>0</td>\n",
              "      <td>NYC</td>\n",
              "    </tr>\n",
              "    <tr>\n",
              "      <td>3</td>\n",
              "      <td>Hartford</td>\n",
              "    </tr>\n",
              "    <tr>\n",
              "      <td>5</td>\n",
              "      <td>Treton</td>\n",
              "    </tr>\n",
              "    <tr>\n",
              "      <td>6</td>\n",
              "      <td>Newark</td>\n",
              "    </tr>\n",
              "  </tbody>\n",
              "</table>\n",
              "</div>"
            ],
            "text/plain": [
              "       City\n",
              "0       NYC\n",
              "3  Hartford\n",
              "5    Treton\n",
              "6    Newark"
            ]
          },
          "execution_count": 20,
          "metadata": {},
          "output_type": "execute_result"
        }
      ],
      "source": [
        "# your code here\n",
        "temp[temp['Temperature'] > 15][['City']]"
      ]
    },
    {
      "cell_type": "markdown",
      "metadata": {
        "id": "n2fKb9_T_BFn"
      },
      "source": [
        "#### Which cities have a temperature above 15 degrees Celcius and below 20 degrees Celsius?\n",
        "\n",
        "**Hint**: First, write the condition. Then, select the rows."
      ]
    },
    {
      "cell_type": "code",
      "execution_count": null,
      "metadata": {
        "id": "C-CwzQfu_BFn",
        "outputId": "0d32e811-4f90-4a92-e2b2-8b4d3b5d8e3b"
      },
      "outputs": [
        {
          "data": {
            "text/html": [
              "<div>\n",
              "<style scoped>\n",
              "    .dataframe tbody tr th:only-of-type {\n",
              "        vertical-align: middle;\n",
              "    }\n",
              "\n",
              "    .dataframe tbody tr th {\n",
              "        vertical-align: top;\n",
              "    }\n",
              "\n",
              "    .dataframe thead th {\n",
              "        text-align: right;\n",
              "    }\n",
              "</style>\n",
              "<table border=\"1\" class=\"dataframe\">\n",
              "  <thead>\n",
              "    <tr style=\"text-align: right;\">\n",
              "      <th></th>\n",
              "      <th>City</th>\n",
              "    </tr>\n",
              "  </thead>\n",
              "  <tbody>\n",
              "    <tr>\n",
              "      <td>0</td>\n",
              "      <td>NYC</td>\n",
              "    </tr>\n",
              "    <tr>\n",
              "      <td>3</td>\n",
              "      <td>Hartford</td>\n",
              "    </tr>\n",
              "  </tbody>\n",
              "</table>\n",
              "</div>"
            ],
            "text/plain": [
              "       City\n",
              "0       NYC\n",
              "3  Hartford"
            ]
          },
          "execution_count": 22,
          "metadata": {},
          "output_type": "execute_result"
        }
      ],
      "source": [
        "# your code here\n",
        "temp[(temp['Temperature'] > 15) & (temp['Temperature'] < 20) ][['City']]"
      ]
    },
    {
      "cell_type": "markdown",
      "metadata": {
        "id": "4GAoyNlr_BFn"
      },
      "source": [
        "#### Find the mean and standard deviation of the temperature of each state."
      ]
    },
    {
      "cell_type": "code",
      "execution_count": null,
      "metadata": {
        "id": "yQUAyxTs_BFn",
        "outputId": "ee4db16c-f43a-47c1-ac7c-5365233a2689"
      },
      "outputs": [
        {
          "data": {
            "text/html": [
              "<div>\n",
              "<style scoped>\n",
              "    .dataframe tbody tr th:only-of-type {\n",
              "        vertical-align: middle;\n",
              "    }\n",
              "\n",
              "    .dataframe tbody tr th {\n",
              "        vertical-align: top;\n",
              "    }\n",
              "\n",
              "    .dataframe thead th {\n",
              "        text-align: right;\n",
              "    }\n",
              "</style>\n",
              "<table border=\"1\" class=\"dataframe\">\n",
              "  <thead>\n",
              "    <tr style=\"text-align: right;\">\n",
              "      <th></th>\n",
              "      <th>Temperature</th>\n",
              "    </tr>\n",
              "    <tr>\n",
              "      <th>State</th>\n",
              "      <th></th>\n",
              "    </tr>\n",
              "  </thead>\n",
              "  <tbody>\n",
              "    <tr>\n",
              "      <td>Connecticut</td>\n",
              "      <td>15.833333</td>\n",
              "    </tr>\n",
              "    <tr>\n",
              "      <td>New Jersey</td>\n",
              "      <td>21.111111</td>\n",
              "    </tr>\n",
              "    <tr>\n",
              "      <td>New York</td>\n",
              "      <td>10.740741</td>\n",
              "    </tr>\n",
              "  </tbody>\n",
              "</table>\n",
              "</div>"
            ],
            "text/plain": [
              "             Temperature\n",
              "State                   \n",
              "Connecticut    15.833333\n",
              "New Jersey     21.111111\n",
              "New York       10.740741"
            ]
          },
          "execution_count": 25,
          "metadata": {},
          "output_type": "execute_result"
        }
      ],
      "source": [
        "# your code here\n",
        "temp.groupby('State').mean()"
      ]
    },
    {
      "cell_type": "markdown",
      "metadata": {
        "collapsed": true,
        "id": "Z3CCMHqL_BFn"
      },
      "source": [
        "# Challenge 2"
      ]
    },
    {
      "cell_type": "markdown",
      "metadata": {
        "id": "bQf4BlUe_BFo"
      },
      "source": [
        "#### Load the `employees` dataset into a dataframe. Call the dataframe `employees`."
      ]
    },
    {
      "cell_type": "code",
      "execution_count": null,
      "metadata": {
        "id": "4IWEAavO_BFo"
      },
      "outputs": [],
      "source": [
        "# your code here\n",
        "employees=pd.read_csv('Employees.csv')"
      ]
    },
    {
      "cell_type": "code",
      "execution_count": null,
      "metadata": {
        "id": "nx4BdYWb_BFo",
        "outputId": "4e5a2bc4-517e-449c-cb2f-ef9d217c15df"
      },
      "outputs": [
        {
          "data": {
            "text/html": [
              "<div>\n",
              "<style scoped>\n",
              "    .dataframe tbody tr th:only-of-type {\n",
              "        vertical-align: middle;\n",
              "    }\n",
              "\n",
              "    .dataframe tbody tr th {\n",
              "        vertical-align: top;\n",
              "    }\n",
              "\n",
              "    .dataframe thead th {\n",
              "        text-align: right;\n",
              "    }\n",
              "</style>\n",
              "<table border=\"1\" class=\"dataframe\">\n",
              "  <thead>\n",
              "    <tr style=\"text-align: right;\">\n",
              "      <th></th>\n",
              "      <th>Department</th>\n",
              "      <th>Education</th>\n",
              "      <th>Title</th>\n",
              "      <th>Name</th>\n",
              "      <th>Years</th>\n",
              "      <th>Salary</th>\n",
              "    </tr>\n",
              "  </thead>\n",
              "  <tbody>\n",
              "    <tr>\n",
              "      <td>0</td>\n",
              "      <td>Admin</td>\n",
              "      <td>Master</td>\n",
              "      <td>associate</td>\n",
              "      <td>David</td>\n",
              "      <td>4</td>\n",
              "      <td>58</td>\n",
              "    </tr>\n",
              "    <tr>\n",
              "      <td>1</td>\n",
              "      <td>IT</td>\n",
              "      <td>Master</td>\n",
              "      <td>associate</td>\n",
              "      <td>Thomas</td>\n",
              "      <td>7</td>\n",
              "      <td>45</td>\n",
              "    </tr>\n",
              "    <tr>\n",
              "      <td>2</td>\n",
              "      <td>Admin</td>\n",
              "      <td>Master</td>\n",
              "      <td>associate</td>\n",
              "      <td>Diana</td>\n",
              "      <td>10</td>\n",
              "      <td>52</td>\n",
              "    </tr>\n",
              "    <tr>\n",
              "      <td>3</td>\n",
              "      <td>Admin</td>\n",
              "      <td>Master</td>\n",
              "      <td>VP</td>\n",
              "      <td>Manuella</td>\n",
              "      <td>15</td>\n",
              "      <td>33</td>\n",
              "    </tr>\n",
              "    <tr>\n",
              "      <td>4</td>\n",
              "      <td>Sales</td>\n",
              "      <td>Master</td>\n",
              "      <td>Analyst</td>\n",
              "      <td>Carla</td>\n",
              "      <td>6</td>\n",
              "      <td>38</td>\n",
              "    </tr>\n",
              "  </tbody>\n",
              "</table>\n",
              "</div>"
            ],
            "text/plain": [
              "  Department Education      Title      Name  Years  Salary\n",
              "0      Admin    Master  associate     David      4      58\n",
              "1         IT    Master  associate    Thomas      7      45\n",
              "2      Admin    Master  associate     Diana     10      52\n",
              "3      Admin    Master         VP  Manuella     15      33\n",
              "4      Sales    Master    Analyst     Carla      6      38"
            ]
          },
          "execution_count": 67,
          "metadata": {},
          "output_type": "execute_result"
        }
      ],
      "source": [
        "employees.head()"
      ]
    },
    {
      "cell_type": "markdown",
      "metadata": {
        "id": "YmQG5trf_BFo"
      },
      "source": [
        "#### Explore the data types of the `employees` dataframe. Comment your results."
      ]
    },
    {
      "cell_type": "code",
      "execution_count": null,
      "metadata": {
        "id": "64lZsJde_BFo",
        "outputId": "2dcc0d96-0ae3-433d-c463-ec5a1951f95f"
      },
      "outputs": [
        {
          "data": {
            "text/plain": [
              "Department    object\n",
              "Education     object\n",
              "Title         object\n",
              "Name          object\n",
              "Years          int64\n",
              "Salary         int64\n",
              "dtype: object"
            ]
          },
          "execution_count": 68,
          "metadata": {},
          "output_type": "execute_result"
        }
      ],
      "source": [
        "# your code here\n",
        "employees.dtypes"
      ]
    },
    {
      "cell_type": "code",
      "execution_count": null,
      "metadata": {
        "id": "CDx7NxGd_BFo",
        "outputId": "c74b89b4-3dc2-4994-d0af-c52cae1754da"
      },
      "outputs": [
        {
          "data": {
            "text/plain": [
              "'\\nTwo of the columns contain integers and the rest contain strings values.\\n'"
            ]
          },
          "execution_count": 69,
          "metadata": {},
          "output_type": "execute_result"
        }
      ],
      "source": [
        "\"\"\"\n",
        "Two of the columns contain integers and the rest contain strings values.\n",
        "\"\"\""
      ]
    },
    {
      "cell_type": "markdown",
      "metadata": {
        "id": "VIM86YUA_BFp"
      },
      "source": [
        "#### What's the average salary in this company?"
      ]
    },
    {
      "cell_type": "code",
      "execution_count": null,
      "metadata": {
        "id": "g2WnoXNN_BFp",
        "outputId": "13f2b393-510d-4604-db1c-2a01346d9f6c"
      },
      "outputs": [
        {
          "data": {
            "text/plain": [
              "73.528"
            ]
          },
          "execution_count": 70,
          "metadata": {},
          "output_type": "execute_result"
        }
      ],
      "source": [
        "# your code here\n",
        "employees['Salary'].mean()"
      ]
    },
    {
      "cell_type": "markdown",
      "metadata": {
        "id": "-KciwkTw_BFp"
      },
      "source": [
        "#### What's the highest salary?"
      ]
    },
    {
      "cell_type": "code",
      "execution_count": null,
      "metadata": {
        "id": "3A0p_D45_BFp",
        "outputId": "5677981e-8841-4d52-e917-5984a0088f98"
      },
      "outputs": [
        {
          "data": {
            "text/plain": [
              "120"
            ]
          },
          "execution_count": 71,
          "metadata": {},
          "output_type": "execute_result"
        }
      ],
      "source": [
        "# your code here\n",
        "employees['Salary'].max()"
      ]
    },
    {
      "cell_type": "markdown",
      "metadata": {
        "id": "xRsDq9qE_BFp"
      },
      "source": [
        "#### What's the lowest salary?"
      ]
    },
    {
      "cell_type": "code",
      "execution_count": null,
      "metadata": {
        "id": "qWt5UZ88_BFq",
        "outputId": "a906b0c5-a447-47b4-e68f-255a337177a6"
      },
      "outputs": [
        {
          "data": {
            "text/plain": [
              "30"
            ]
          },
          "execution_count": 72,
          "metadata": {},
          "output_type": "execute_result"
        }
      ],
      "source": [
        "# your code here\n",
        "employees['Salary'].min()"
      ]
    },
    {
      "cell_type": "markdown",
      "metadata": {
        "id": "w-y71MiF_BFq"
      },
      "source": [
        "#### Who are the employees with the lowest salary?"
      ]
    },
    {
      "cell_type": "code",
      "execution_count": null,
      "metadata": {
        "id": "xGR3MdzX_BFr",
        "outputId": "3ff67010-9dd6-4f46-a577-c3496304b2c4"
      },
      "outputs": [
        {
          "data": {
            "text/html": [
              "<div>\n",
              "<style scoped>\n",
              "    .dataframe tbody tr th:only-of-type {\n",
              "        vertical-align: middle;\n",
              "    }\n",
              "\n",
              "    .dataframe tbody tr th {\n",
              "        vertical-align: top;\n",
              "    }\n",
              "\n",
              "    .dataframe thead th {\n",
              "        text-align: right;\n",
              "    }\n",
              "</style>\n",
              "<table border=\"1\" class=\"dataframe\">\n",
              "  <thead>\n",
              "    <tr style=\"text-align: right;\">\n",
              "      <th></th>\n",
              "      <th>Department</th>\n",
              "      <th>Education</th>\n",
              "      <th>Title</th>\n",
              "      <th>Name</th>\n",
              "      <th>Years</th>\n",
              "      <th>Salary</th>\n",
              "    </tr>\n",
              "  </thead>\n",
              "  <tbody>\n",
              "    <tr>\n",
              "      <td>27</td>\n",
              "      <td>IT</td>\n",
              "      <td>Bachelor</td>\n",
              "      <td>Analyst</td>\n",
              "      <td>Sean</td>\n",
              "      <td>12</td>\n",
              "      <td>30</td>\n",
              "    </tr>\n",
              "    <tr>\n",
              "      <td>106</td>\n",
              "      <td>Admin</td>\n",
              "      <td>Bachelor</td>\n",
              "      <td>associate</td>\n",
              "      <td>Luke</td>\n",
              "      <td>4</td>\n",
              "      <td>30</td>\n",
              "    </tr>\n",
              "    <tr>\n",
              "      <td>128</td>\n",
              "      <td>Sales</td>\n",
              "      <td>PhD</td>\n",
              "      <td>VP</td>\n",
              "      <td>Adam</td>\n",
              "      <td>8</td>\n",
              "      <td>30</td>\n",
              "    </tr>\n",
              "    <tr>\n",
              "      <td>139</td>\n",
              "      <td>Sales</td>\n",
              "      <td>PhD</td>\n",
              "      <td>Analyst</td>\n",
              "      <td>Rick</td>\n",
              "      <td>11</td>\n",
              "      <td>30</td>\n",
              "    </tr>\n",
              "    <tr>\n",
              "      <td>214</td>\n",
              "      <td>Sales</td>\n",
              "      <td>Master</td>\n",
              "      <td>VP</td>\n",
              "      <td>Neil</td>\n",
              "      <td>11</td>\n",
              "      <td>30</td>\n",
              "    </tr>\n",
              "    <tr>\n",
              "      <td>266</td>\n",
              "      <td>HR</td>\n",
              "      <td>PhD</td>\n",
              "      <td>associate</td>\n",
              "      <td>Marcel</td>\n",
              "      <td>10</td>\n",
              "      <td>30</td>\n",
              "    </tr>\n",
              "    <tr>\n",
              "      <td>452</td>\n",
              "      <td>IT</td>\n",
              "      <td>Bachelor</td>\n",
              "      <td>Analyst</td>\n",
              "      <td>Augustin</td>\n",
              "      <td>13</td>\n",
              "      <td>30</td>\n",
              "    </tr>\n",
              "  </tbody>\n",
              "</table>\n",
              "</div>"
            ],
            "text/plain": [
              "    Department Education      Title      Name  Years  Salary\n",
              "27          IT  Bachelor    Analyst      Sean     12      30\n",
              "106      Admin  Bachelor  associate      Luke      4      30\n",
              "128      Sales       PhD         VP      Adam      8      30\n",
              "139      Sales       PhD    Analyst      Rick     11      30\n",
              "214      Sales    Master         VP      Neil     11      30\n",
              "266         HR       PhD  associate    Marcel     10      30\n",
              "452         IT  Bachelor    Analyst  Augustin     13      30"
            ]
          },
          "execution_count": 73,
          "metadata": {},
          "output_type": "execute_result"
        }
      ],
      "source": [
        "# your code here\n",
        "employees[employees['Salary']==employees['Salary'].min()]"
      ]
    },
    {
      "cell_type": "markdown",
      "metadata": {
        "id": "hSsYvqA6_BFr"
      },
      "source": [
        "#### Find all the information about an employee called Adam."
      ]
    },
    {
      "cell_type": "code",
      "execution_count": null,
      "metadata": {
        "id": "4qm0DOUa_BFr",
        "outputId": "d825c2c4-f5ad-4f64-cc73-33d4361c030b"
      },
      "outputs": [
        {
          "data": {
            "text/html": [
              "<div>\n",
              "<style scoped>\n",
              "    .dataframe tbody tr th:only-of-type {\n",
              "        vertical-align: middle;\n",
              "    }\n",
              "\n",
              "    .dataframe tbody tr th {\n",
              "        vertical-align: top;\n",
              "    }\n",
              "\n",
              "    .dataframe thead th {\n",
              "        text-align: right;\n",
              "    }\n",
              "</style>\n",
              "<table border=\"1\" class=\"dataframe\">\n",
              "  <thead>\n",
              "    <tr style=\"text-align: right;\">\n",
              "      <th></th>\n",
              "      <th>Department</th>\n",
              "      <th>Education</th>\n",
              "      <th>Title</th>\n",
              "      <th>Name</th>\n",
              "      <th>Years</th>\n",
              "      <th>Salary</th>\n",
              "    </tr>\n",
              "  </thead>\n",
              "  <tbody>\n",
              "    <tr>\n",
              "      <td>128</td>\n",
              "      <td>Sales</td>\n",
              "      <td>PhD</td>\n",
              "      <td>VP</td>\n",
              "      <td>Adam</td>\n",
              "      <td>8</td>\n",
              "      <td>30</td>\n",
              "    </tr>\n",
              "    <tr>\n",
              "      <td>321</td>\n",
              "      <td>Admin</td>\n",
              "      <td>Master</td>\n",
              "      <td>VP</td>\n",
              "      <td>Adam</td>\n",
              "      <td>12</td>\n",
              "      <td>78</td>\n",
              "    </tr>\n",
              "    <tr>\n",
              "      <td>372</td>\n",
              "      <td>IT</td>\n",
              "      <td>PhD</td>\n",
              "      <td>VP</td>\n",
              "      <td>Adam</td>\n",
              "      <td>6</td>\n",
              "      <td>81</td>\n",
              "    </tr>\n",
              "  </tbody>\n",
              "</table>\n",
              "</div>"
            ],
            "text/plain": [
              "    Department Education Title  Name  Years  Salary\n",
              "128      Sales       PhD    VP  Adam      8      30\n",
              "321      Admin    Master    VP  Adam     12      78\n",
              "372         IT       PhD    VP  Adam      6      81"
            ]
          },
          "execution_count": 74,
          "metadata": {},
          "output_type": "execute_result"
        }
      ],
      "source": [
        "# your code here\n",
        "employees[employees['Name']=='Adam']"
      ]
    },
    {
      "cell_type": "markdown",
      "metadata": {
        "id": "5HvNeFeE_BFr"
      },
      "source": [
        "#### Could you return only Adam's salary?"
      ]
    },
    {
      "cell_type": "code",
      "execution_count": null,
      "metadata": {
        "id": "Un57Lgyy_BFr",
        "outputId": "9d45d968-9c0c-4d36-fab3-02fb2b489fbf"
      },
      "outputs": [
        {
          "data": {
            "text/html": [
              "<div>\n",
              "<style scoped>\n",
              "    .dataframe tbody tr th:only-of-type {\n",
              "        vertical-align: middle;\n",
              "    }\n",
              "\n",
              "    .dataframe tbody tr th {\n",
              "        vertical-align: top;\n",
              "    }\n",
              "\n",
              "    .dataframe thead th {\n",
              "        text-align: right;\n",
              "    }\n",
              "</style>\n",
              "<table border=\"1\" class=\"dataframe\">\n",
              "  <thead>\n",
              "    <tr style=\"text-align: right;\">\n",
              "      <th></th>\n",
              "      <th>Salary</th>\n",
              "    </tr>\n",
              "  </thead>\n",
              "  <tbody>\n",
              "    <tr>\n",
              "      <td>128</td>\n",
              "      <td>30</td>\n",
              "    </tr>\n",
              "    <tr>\n",
              "      <td>321</td>\n",
              "      <td>78</td>\n",
              "    </tr>\n",
              "    <tr>\n",
              "      <td>372</td>\n",
              "      <td>81</td>\n",
              "    </tr>\n",
              "  </tbody>\n",
              "</table>\n",
              "</div>"
            ],
            "text/plain": [
              "     Salary\n",
              "128      30\n",
              "321      78\n",
              "372      81"
            ]
          },
          "execution_count": 75,
          "metadata": {},
          "output_type": "execute_result"
        }
      ],
      "source": [
        "# your code here\n",
        "employees[employees['Name']=='Adam'][['Salary']]"
      ]
    },
    {
      "cell_type": "markdown",
      "metadata": {
        "id": "JIX1hp4y_BFs"
      },
      "source": [
        "#### Print all the rows where job title is associate."
      ]
    },
    {
      "cell_type": "code",
      "execution_count": null,
      "metadata": {
        "id": "ImvHQt4-_BFs",
        "outputId": "b8c7961a-45bc-4f8f-9d56-823d2fbd6c48"
      },
      "outputs": [
        {
          "data": {
            "text/html": [
              "<div>\n",
              "<style scoped>\n",
              "    .dataframe tbody tr th:only-of-type {\n",
              "        vertical-align: middle;\n",
              "    }\n",
              "\n",
              "    .dataframe tbody tr th {\n",
              "        vertical-align: top;\n",
              "    }\n",
              "\n",
              "    .dataframe thead th {\n",
              "        text-align: right;\n",
              "    }\n",
              "</style>\n",
              "<table border=\"1\" class=\"dataframe\">\n",
              "  <thead>\n",
              "    <tr style=\"text-align: right;\">\n",
              "      <th></th>\n",
              "      <th>Department</th>\n",
              "      <th>Education</th>\n",
              "      <th>Title</th>\n",
              "      <th>Name</th>\n",
              "      <th>Years</th>\n",
              "      <th>Salary</th>\n",
              "    </tr>\n",
              "  </thead>\n",
              "  <tbody>\n",
              "    <tr>\n",
              "      <td>0</td>\n",
              "      <td>Admin</td>\n",
              "      <td>Master</td>\n",
              "      <td>associate</td>\n",
              "      <td>David</td>\n",
              "      <td>4</td>\n",
              "      <td>58</td>\n",
              "    </tr>\n",
              "    <tr>\n",
              "      <td>1</td>\n",
              "      <td>IT</td>\n",
              "      <td>Master</td>\n",
              "      <td>associate</td>\n",
              "      <td>Thomas</td>\n",
              "      <td>7</td>\n",
              "      <td>45</td>\n",
              "    </tr>\n",
              "    <tr>\n",
              "      <td>2</td>\n",
              "      <td>Admin</td>\n",
              "      <td>Master</td>\n",
              "      <td>associate</td>\n",
              "      <td>Diana</td>\n",
              "      <td>10</td>\n",
              "      <td>52</td>\n",
              "    </tr>\n",
              "    <tr>\n",
              "      <td>7</td>\n",
              "      <td>HR</td>\n",
              "      <td>Master</td>\n",
              "      <td>associate</td>\n",
              "      <td>Carol</td>\n",
              "      <td>14</td>\n",
              "      <td>53</td>\n",
              "    </tr>\n",
              "    <tr>\n",
              "      <td>8</td>\n",
              "      <td>Admin</td>\n",
              "      <td>PhD</td>\n",
              "      <td>associate</td>\n",
              "      <td>Jean</td>\n",
              "      <td>8</td>\n",
              "      <td>50</td>\n",
              "    </tr>\n",
              "    <tr>\n",
              "      <td>...</td>\n",
              "      <td>...</td>\n",
              "      <td>...</td>\n",
              "      <td>...</td>\n",
              "      <td>...</td>\n",
              "      <td>...</td>\n",
              "      <td>...</td>\n",
              "    </tr>\n",
              "    <tr>\n",
              "      <td>477</td>\n",
              "      <td>HR</td>\n",
              "      <td>PhD</td>\n",
              "      <td>associate</td>\n",
              "      <td>Phillip</td>\n",
              "      <td>11</td>\n",
              "      <td>113</td>\n",
              "    </tr>\n",
              "    <tr>\n",
              "      <td>486</td>\n",
              "      <td>IT</td>\n",
              "      <td>Bachelor</td>\n",
              "      <td>associate</td>\n",
              "      <td>Jay</td>\n",
              "      <td>14</td>\n",
              "      <td>58</td>\n",
              "    </tr>\n",
              "    <tr>\n",
              "      <td>487</td>\n",
              "      <td>HR</td>\n",
              "      <td>Master</td>\n",
              "      <td>associate</td>\n",
              "      <td>Patricia</td>\n",
              "      <td>10</td>\n",
              "      <td>110</td>\n",
              "    </tr>\n",
              "    <tr>\n",
              "      <td>491</td>\n",
              "      <td>Admin</td>\n",
              "      <td>PhD</td>\n",
              "      <td>associate</td>\n",
              "      <td>Alice</td>\n",
              "      <td>8</td>\n",
              "      <td>37</td>\n",
              "    </tr>\n",
              "    <tr>\n",
              "      <td>494</td>\n",
              "      <td>Sales</td>\n",
              "      <td>Bachelor</td>\n",
              "      <td>associate</td>\n",
              "      <td>Vanessa</td>\n",
              "      <td>11</td>\n",
              "      <td>118</td>\n",
              "    </tr>\n",
              "  </tbody>\n",
              "</table>\n",
              "<p>158 rows × 6 columns</p>\n",
              "</div>"
            ],
            "text/plain": [
              "    Department Education      Title      Name  Years  Salary\n",
              "0        Admin    Master  associate     David      4      58\n",
              "1           IT    Master  associate    Thomas      7      45\n",
              "2        Admin    Master  associate     Diana     10      52\n",
              "7           HR    Master  associate     Carol     14      53\n",
              "8        Admin       PhD  associate      Jean      8      50\n",
              "..         ...       ...        ...       ...    ...     ...\n",
              "477         HR       PhD  associate   Phillip     11     113\n",
              "486         IT  Bachelor  associate       Jay     14      58\n",
              "487         HR    Master  associate  Patricia     10     110\n",
              "491      Admin       PhD  associate     Alice      8      37\n",
              "494      Sales  Bachelor  associate   Vanessa     11     118\n",
              "\n",
              "[158 rows x 6 columns]"
            ]
          },
          "execution_count": 76,
          "metadata": {},
          "output_type": "execute_result"
        }
      ],
      "source": [
        "# your code here\n",
        "employees[employees['Title']=='associate']"
      ]
    },
    {
      "cell_type": "markdown",
      "metadata": {
        "id": "U1SdJ9fy_BFs"
      },
      "source": [
        "#### Print the first 3 rows of your dataframe.\n",
        "**Tip**: There are 2 ways to do it. Do it both ways."
      ]
    },
    {
      "cell_type": "code",
      "execution_count": null,
      "metadata": {
        "id": "ks708f6z_BFs",
        "outputId": "cef13f3a-c289-4dc2-8f4c-2945486a89bc"
      },
      "outputs": [
        {
          "data": {
            "text/html": [
              "<div>\n",
              "<style scoped>\n",
              "    .dataframe tbody tr th:only-of-type {\n",
              "        vertical-align: middle;\n",
              "    }\n",
              "\n",
              "    .dataframe tbody tr th {\n",
              "        vertical-align: top;\n",
              "    }\n",
              "\n",
              "    .dataframe thead th {\n",
              "        text-align: right;\n",
              "    }\n",
              "</style>\n",
              "<table border=\"1\" class=\"dataframe\">\n",
              "  <thead>\n",
              "    <tr style=\"text-align: right;\">\n",
              "      <th></th>\n",
              "      <th>Department</th>\n",
              "      <th>Education</th>\n",
              "      <th>Title</th>\n",
              "      <th>Name</th>\n",
              "      <th>Years</th>\n",
              "      <th>Salary</th>\n",
              "    </tr>\n",
              "  </thead>\n",
              "  <tbody>\n",
              "    <tr>\n",
              "      <td>0</td>\n",
              "      <td>Admin</td>\n",
              "      <td>Master</td>\n",
              "      <td>associate</td>\n",
              "      <td>David</td>\n",
              "      <td>4</td>\n",
              "      <td>58</td>\n",
              "    </tr>\n",
              "    <tr>\n",
              "      <td>1</td>\n",
              "      <td>IT</td>\n",
              "      <td>Master</td>\n",
              "      <td>associate</td>\n",
              "      <td>Thomas</td>\n",
              "      <td>7</td>\n",
              "      <td>45</td>\n",
              "    </tr>\n",
              "    <tr>\n",
              "      <td>2</td>\n",
              "      <td>Admin</td>\n",
              "      <td>Master</td>\n",
              "      <td>associate</td>\n",
              "      <td>Diana</td>\n",
              "      <td>10</td>\n",
              "      <td>52</td>\n",
              "    </tr>\n",
              "  </tbody>\n",
              "</table>\n",
              "</div>"
            ],
            "text/plain": [
              "  Department Education      Title    Name  Years  Salary\n",
              "0      Admin    Master  associate   David      4      58\n",
              "1         IT    Master  associate  Thomas      7      45\n",
              "2      Admin    Master  associate   Diana     10      52"
            ]
          },
          "execution_count": 77,
          "metadata": {},
          "output_type": "execute_result"
        }
      ],
      "source": [
        "# Method 1\n",
        "# your code here\n",
        "employees.head(3)"
      ]
    },
    {
      "cell_type": "code",
      "execution_count": null,
      "metadata": {
        "id": "C9iPs0PO_BFt",
        "outputId": "c1073809-f0fd-4da9-ffb8-363ea2dfe4ce"
      },
      "outputs": [
        {
          "data": {
            "text/html": [
              "<div>\n",
              "<style scoped>\n",
              "    .dataframe tbody tr th:only-of-type {\n",
              "        vertical-align: middle;\n",
              "    }\n",
              "\n",
              "    .dataframe tbody tr th {\n",
              "        vertical-align: top;\n",
              "    }\n",
              "\n",
              "    .dataframe thead th {\n",
              "        text-align: right;\n",
              "    }\n",
              "</style>\n",
              "<table border=\"1\" class=\"dataframe\">\n",
              "  <thead>\n",
              "    <tr style=\"text-align: right;\">\n",
              "      <th></th>\n",
              "      <th>Department</th>\n",
              "      <th>Education</th>\n",
              "      <th>Title</th>\n",
              "      <th>Name</th>\n",
              "      <th>Years</th>\n",
              "      <th>Salary</th>\n",
              "    </tr>\n",
              "  </thead>\n",
              "  <tbody>\n",
              "    <tr>\n",
              "      <td>0</td>\n",
              "      <td>Admin</td>\n",
              "      <td>Master</td>\n",
              "      <td>associate</td>\n",
              "      <td>David</td>\n",
              "      <td>4</td>\n",
              "      <td>58</td>\n",
              "    </tr>\n",
              "    <tr>\n",
              "      <td>1</td>\n",
              "      <td>IT</td>\n",
              "      <td>Master</td>\n",
              "      <td>associate</td>\n",
              "      <td>Thomas</td>\n",
              "      <td>7</td>\n",
              "      <td>45</td>\n",
              "    </tr>\n",
              "    <tr>\n",
              "      <td>2</td>\n",
              "      <td>Admin</td>\n",
              "      <td>Master</td>\n",
              "      <td>associate</td>\n",
              "      <td>Diana</td>\n",
              "      <td>10</td>\n",
              "      <td>52</td>\n",
              "    </tr>\n",
              "  </tbody>\n",
              "</table>\n",
              "</div>"
            ],
            "text/plain": [
              "  Department Education      Title    Name  Years  Salary\n",
              "0      Admin    Master  associate   David      4      58\n",
              "1         IT    Master  associate  Thomas      7      45\n",
              "2      Admin    Master  associate   Diana     10      52"
            ]
          },
          "execution_count": 78,
          "metadata": {},
          "output_type": "execute_result"
        }
      ],
      "source": [
        "# Method 2\n",
        "# your code here\n",
        "employees.iloc[:3]"
      ]
    },
    {
      "cell_type": "markdown",
      "metadata": {
        "id": "OUZrqxD3_BFt"
      },
      "source": [
        "#### Find the employees whose title is associate and whose salary is above 55."
      ]
    },
    {
      "cell_type": "code",
      "execution_count": null,
      "metadata": {
        "id": "tUrfpfgw_BFt",
        "outputId": "e9e8b827-bccb-44dc-d149-c04e8324d8a0"
      },
      "outputs": [
        {
          "data": {
            "text/html": [
              "<div>\n",
              "<style scoped>\n",
              "    .dataframe tbody tr th:only-of-type {\n",
              "        vertical-align: middle;\n",
              "    }\n",
              "\n",
              "    .dataframe tbody tr th {\n",
              "        vertical-align: top;\n",
              "    }\n",
              "\n",
              "    .dataframe thead th {\n",
              "        text-align: right;\n",
              "    }\n",
              "</style>\n",
              "<table border=\"1\" class=\"dataframe\">\n",
              "  <thead>\n",
              "    <tr style=\"text-align: right;\">\n",
              "      <th></th>\n",
              "      <th>Department</th>\n",
              "      <th>Education</th>\n",
              "      <th>Title</th>\n",
              "      <th>Name</th>\n",
              "      <th>Years</th>\n",
              "      <th>Salary</th>\n",
              "    </tr>\n",
              "  </thead>\n",
              "  <tbody>\n",
              "    <tr>\n",
              "      <td>0</td>\n",
              "      <td>Admin</td>\n",
              "      <td>Master</td>\n",
              "      <td>associate</td>\n",
              "      <td>David</td>\n",
              "      <td>4</td>\n",
              "      <td>58</td>\n",
              "    </tr>\n",
              "    <tr>\n",
              "      <td>9</td>\n",
              "      <td>Admin</td>\n",
              "      <td>Master</td>\n",
              "      <td>associate</td>\n",
              "      <td>Kareem</td>\n",
              "      <td>3</td>\n",
              "      <td>104</td>\n",
              "    </tr>\n",
              "    <tr>\n",
              "      <td>10</td>\n",
              "      <td>Admin</td>\n",
              "      <td>Master</td>\n",
              "      <td>associate</td>\n",
              "      <td>Cynthia</td>\n",
              "      <td>1</td>\n",
              "      <td>114</td>\n",
              "    </tr>\n",
              "    <tr>\n",
              "      <td>16</td>\n",
              "      <td>Admin</td>\n",
              "      <td>Bachelor</td>\n",
              "      <td>associate</td>\n",
              "      <td>Shanon</td>\n",
              "      <td>1</td>\n",
              "      <td>99</td>\n",
              "    </tr>\n",
              "    <tr>\n",
              "      <td>18</td>\n",
              "      <td>Admin</td>\n",
              "      <td>Bachelor</td>\n",
              "      <td>associate</td>\n",
              "      <td>Megan</td>\n",
              "      <td>9</td>\n",
              "      <td>79</td>\n",
              "    </tr>\n",
              "    <tr>\n",
              "      <td>...</td>\n",
              "      <td>...</td>\n",
              "      <td>...</td>\n",
              "      <td>...</td>\n",
              "      <td>...</td>\n",
              "      <td>...</td>\n",
              "      <td>...</td>\n",
              "    </tr>\n",
              "    <tr>\n",
              "      <td>476</td>\n",
              "      <td>Admin</td>\n",
              "      <td>PhD</td>\n",
              "      <td>associate</td>\n",
              "      <td>Greg</td>\n",
              "      <td>8</td>\n",
              "      <td>93</td>\n",
              "    </tr>\n",
              "    <tr>\n",
              "      <td>477</td>\n",
              "      <td>HR</td>\n",
              "      <td>PhD</td>\n",
              "      <td>associate</td>\n",
              "      <td>Phillip</td>\n",
              "      <td>11</td>\n",
              "      <td>113</td>\n",
              "    </tr>\n",
              "    <tr>\n",
              "      <td>486</td>\n",
              "      <td>IT</td>\n",
              "      <td>Bachelor</td>\n",
              "      <td>associate</td>\n",
              "      <td>Jay</td>\n",
              "      <td>14</td>\n",
              "      <td>58</td>\n",
              "    </tr>\n",
              "    <tr>\n",
              "      <td>487</td>\n",
              "      <td>HR</td>\n",
              "      <td>Master</td>\n",
              "      <td>associate</td>\n",
              "      <td>Patricia</td>\n",
              "      <td>10</td>\n",
              "      <td>110</td>\n",
              "    </tr>\n",
              "    <tr>\n",
              "      <td>494</td>\n",
              "      <td>Sales</td>\n",
              "      <td>Bachelor</td>\n",
              "      <td>associate</td>\n",
              "      <td>Vanessa</td>\n",
              "      <td>11</td>\n",
              "      <td>118</td>\n",
              "    </tr>\n",
              "  </tbody>\n",
              "</table>\n",
              "<p>104 rows × 6 columns</p>\n",
              "</div>"
            ],
            "text/plain": [
              "    Department Education      Title      Name  Years  Salary\n",
              "0        Admin    Master  associate     David      4      58\n",
              "9        Admin    Master  associate    Kareem      3     104\n",
              "10       Admin    Master  associate   Cynthia      1     114\n",
              "16       Admin  Bachelor  associate    Shanon      1      99\n",
              "18       Admin  Bachelor  associate     Megan      9      79\n",
              "..         ...       ...        ...       ...    ...     ...\n",
              "476      Admin       PhD  associate      Greg      8      93\n",
              "477         HR       PhD  associate   Phillip     11     113\n",
              "486         IT  Bachelor  associate       Jay     14      58\n",
              "487         HR    Master  associate  Patricia     10     110\n",
              "494      Sales  Bachelor  associate   Vanessa     11     118\n",
              "\n",
              "[104 rows x 6 columns]"
            ]
          },
          "execution_count": 79,
          "metadata": {},
          "output_type": "execute_result"
        }
      ],
      "source": [
        "# your code here\n",
        "employees[(employees['Title']=='associate')& (employees['Salary']>55)]"
      ]
    },
    {
      "cell_type": "markdown",
      "metadata": {
        "id": "AR1P7TC1_BFt"
      },
      "source": [
        "#### Group the employees by number of years of employment. What are the average salaries in each group?"
      ]
    },
    {
      "cell_type": "code",
      "execution_count": null,
      "metadata": {
        "id": "JVSJj4Be_BFt",
        "outputId": "9e3cc061-dc92-4c83-9acd-bbfc132f96d1"
      },
      "outputs": [
        {
          "data": {
            "text/html": [
              "<div>\n",
              "<style scoped>\n",
              "    .dataframe tbody tr th:only-of-type {\n",
              "        vertical-align: middle;\n",
              "    }\n",
              "\n",
              "    .dataframe tbody tr th {\n",
              "        vertical-align: top;\n",
              "    }\n",
              "\n",
              "    .dataframe thead th {\n",
              "        text-align: right;\n",
              "    }\n",
              "</style>\n",
              "<table border=\"1\" class=\"dataframe\">\n",
              "  <thead>\n",
              "    <tr style=\"text-align: right;\">\n",
              "      <th></th>\n",
              "      <th>Salary</th>\n",
              "    </tr>\n",
              "    <tr>\n",
              "      <th>Years</th>\n",
              "      <th></th>\n",
              "    </tr>\n",
              "  </thead>\n",
              "  <tbody>\n",
              "    <tr>\n",
              "      <td>1</td>\n",
              "      <td>75.863636</td>\n",
              "    </tr>\n",
              "    <tr>\n",
              "      <td>2</td>\n",
              "      <td>75.857143</td>\n",
              "    </tr>\n",
              "    <tr>\n",
              "      <td>3</td>\n",
              "      <td>74.571429</td>\n",
              "    </tr>\n",
              "    <tr>\n",
              "      <td>4</td>\n",
              "      <td>77.129032</td>\n",
              "    </tr>\n",
              "    <tr>\n",
              "      <td>5</td>\n",
              "      <td>73.857143</td>\n",
              "    </tr>\n",
              "    <tr>\n",
              "      <td>6</td>\n",
              "      <td>72.382353</td>\n",
              "    </tr>\n",
              "    <tr>\n",
              "      <td>7</td>\n",
              "      <td>73.840000</td>\n",
              "    </tr>\n",
              "    <tr>\n",
              "      <td>8</td>\n",
              "      <td>64.250000</td>\n",
              "    </tr>\n",
              "    <tr>\n",
              "      <td>9</td>\n",
              "      <td>76.741935</td>\n",
              "    </tr>\n",
              "    <tr>\n",
              "      <td>10</td>\n",
              "      <td>73.351351</td>\n",
              "    </tr>\n",
              "    <tr>\n",
              "      <td>11</td>\n",
              "      <td>74.866667</td>\n",
              "    </tr>\n",
              "    <tr>\n",
              "      <td>12</td>\n",
              "      <td>73.454545</td>\n",
              "    </tr>\n",
              "    <tr>\n",
              "      <td>13</td>\n",
              "      <td>71.935484</td>\n",
              "    </tr>\n",
              "    <tr>\n",
              "      <td>14</td>\n",
              "      <td>70.968750</td>\n",
              "    </tr>\n",
              "    <tr>\n",
              "      <td>15</td>\n",
              "      <td>69.758621</td>\n",
              "    </tr>\n",
              "  </tbody>\n",
              "</table>\n",
              "</div>"
            ],
            "text/plain": [
              "          Salary\n",
              "Years           \n",
              "1      75.863636\n",
              "2      75.857143\n",
              "3      74.571429\n",
              "4      77.129032\n",
              "5      73.857143\n",
              "6      72.382353\n",
              "7      73.840000\n",
              "8      64.250000\n",
              "9      76.741935\n",
              "10     73.351351\n",
              "11     74.866667\n",
              "12     73.454545\n",
              "13     71.935484\n",
              "14     70.968750\n",
              "15     69.758621"
            ]
          },
          "execution_count": 80,
          "metadata": {},
          "output_type": "execute_result"
        }
      ],
      "source": [
        "# your code here\n",
        "employees.groupby('Years').mean()"
      ]
    },
    {
      "cell_type": "markdown",
      "metadata": {
        "id": "0vsAZ3HV_BFt"
      },
      "source": [
        "####  What is the average salary per title?"
      ]
    },
    {
      "cell_type": "code",
      "execution_count": null,
      "metadata": {
        "id": "4dmXivUN_BFt",
        "outputId": "82e00a26-cb21-420c-8e46-341bd4e76f18"
      },
      "outputs": [
        {
          "data": {
            "text/html": [
              "<div>\n",
              "<style scoped>\n",
              "    .dataframe tbody tr th:only-of-type {\n",
              "        vertical-align: middle;\n",
              "    }\n",
              "\n",
              "    .dataframe tbody tr th {\n",
              "        vertical-align: top;\n",
              "    }\n",
              "\n",
              "    .dataframe thead th {\n",
              "        text-align: right;\n",
              "    }\n",
              "</style>\n",
              "<table border=\"1\" class=\"dataframe\">\n",
              "  <thead>\n",
              "    <tr style=\"text-align: right;\">\n",
              "      <th></th>\n",
              "      <th>Salary</th>\n",
              "    </tr>\n",
              "    <tr>\n",
              "      <th>Title</th>\n",
              "      <th></th>\n",
              "    </tr>\n",
              "  </thead>\n",
              "  <tbody>\n",
              "    <tr>\n",
              "      <td>Analyst</td>\n",
              "      <td>73.703911</td>\n",
              "    </tr>\n",
              "    <tr>\n",
              "      <td>VP</td>\n",
              "      <td>72.907975</td>\n",
              "    </tr>\n",
              "    <tr>\n",
              "      <td>associate</td>\n",
              "      <td>73.968354</td>\n",
              "    </tr>\n",
              "  </tbody>\n",
              "</table>\n",
              "</div>"
            ],
            "text/plain": [
              "              Salary\n",
              "Title               \n",
              "Analyst    73.703911\n",
              "VP         72.907975\n",
              "associate  73.968354"
            ]
          },
          "execution_count": 81,
          "metadata": {},
          "output_type": "execute_result"
        }
      ],
      "source": [
        "# your code here\n",
        "employees.groupby('Title').mean()[['Salary']]"
      ]
    },
    {
      "cell_type": "markdown",
      "metadata": {
        "id": "XlW0LbWD_BFt"
      },
      "source": [
        "####  Find the salary quartiles.\n"
      ]
    },
    {
      "cell_type": "code",
      "execution_count": null,
      "metadata": {
        "id": "yCva6xrt_BFt"
      },
      "outputs": [],
      "source": [
        "import matplotlib as plt"
      ]
    },
    {
      "cell_type": "code",
      "execution_count": null,
      "metadata": {
        "id": "dObDzkrc_BFu",
        "outputId": "72fef05b-0618-4744-d1d8-7ad13330ca18"
      },
      "outputs": [
        {
          "data": {
            "text/plain": [
              "<AxesSubplot:>"
            ]
          },
          "execution_count": 83,
          "metadata": {},
          "output_type": "execute_result"
        },
        {
          "data": {
            "image/png": "[encoded data removed]",
            "text/plain": [
              "<Figure size 432x288 with 1 Axes>"
            ]
          },
          "metadata": {
            "needs_background": "light"
          },
          "output_type": "display_data"
        }
      ],
      "source": [
        "# your code here\n",
        "employees.boxplot()"
      ]
    },
    {
      "cell_type": "code",
      "execution_count": null,
      "metadata": {
        "id": "_aFN3iVA_BFu",
        "outputId": "d7f53cfd-9130-41bb-dbf3-64c5e0c7a1f8"
      },
      "outputs": [
        {
          "data": {
            "text/plain": [
              "Years      3.0\n",
              "Salary    50.0\n",
              "Name: 0.25, dtype: float64"
            ]
          },
          "execution_count": 84,
          "metadata": {},
          "output_type": "execute_result"
        }
      ],
      "source": [
        "employees.quantile(0.25)"
      ]
    },
    {
      "cell_type": "code",
      "execution_count": null,
      "metadata": {
        "id": "g7bE2SMe_BFu",
        "outputId": "37e1fb44-5b84-4daa-a05c-a8ddac91baf6"
      },
      "outputs": [
        {
          "data": {
            "text/plain": [
              "Years     11.25\n",
              "Salary    97.00\n",
              "Name: 0.75, dtype: float64"
            ]
          },
          "execution_count": 85,
          "metadata": {},
          "output_type": "execute_result"
        }
      ],
      "source": [
        "employees.quantile(0.75)"
      ]
    },
    {
      "cell_type": "markdown",
      "metadata": {
        "id": "WqRNsGZl_BFu"
      },
      "source": [
        "#### Is the mean salary different per gender?"
      ]
    },
    {
      "cell_type": "markdown",
      "metadata": {
        "id": "LcHcYcLQ_BFu"
      },
      "source": [
        "#### Find the minimum, mean and maximum of all numeric columns for each company department.\n",
        "\n"
      ]
    },
    {
      "cell_type": "code",
      "execution_count": null,
      "metadata": {
        "id": "1IDauiz2_BFu",
        "outputId": "f15e53a9-7086-41f6-b88d-a0295aea829f"
      },
      "outputs": [
        {
          "data": {
            "text/html": [
              "<div>\n",
              "<style scoped>\n",
              "    .dataframe tbody tr th:only-of-type {\n",
              "        vertical-align: middle;\n",
              "    }\n",
              "\n",
              "    .dataframe tbody tr th {\n",
              "        vertical-align: top;\n",
              "    }\n",
              "\n",
              "    .dataframe thead th {\n",
              "        text-align: right;\n",
              "    }\n",
              "</style>\n",
              "<table border=\"1\" class=\"dataframe\">\n",
              "  <thead>\n",
              "    <tr style=\"text-align: right;\">\n",
              "      <th></th>\n",
              "      <th>Education</th>\n",
              "      <th>Title</th>\n",
              "      <th>Name</th>\n",
              "      <th>Years</th>\n",
              "      <th>Salary</th>\n",
              "    </tr>\n",
              "    <tr>\n",
              "      <th>Department</th>\n",
              "      <th></th>\n",
              "      <th></th>\n",
              "      <th></th>\n",
              "      <th></th>\n",
              "      <th></th>\n",
              "    </tr>\n",
              "  </thead>\n",
              "  <tbody>\n",
              "    <tr>\n",
              "      <td>Admin</td>\n",
              "      <td>Bachelor</td>\n",
              "      <td>Analyst</td>\n",
              "      <td>Beverly</td>\n",
              "      <td>1</td>\n",
              "      <td>30</td>\n",
              "    </tr>\n",
              "    <tr>\n",
              "      <td>HR</td>\n",
              "      <td>Bachelor</td>\n",
              "      <td>Analyst</td>\n",
              "      <td>Beverly</td>\n",
              "      <td>1</td>\n",
              "      <td>30</td>\n",
              "    </tr>\n",
              "    <tr>\n",
              "      <td>IT</td>\n",
              "      <td>Bachelor</td>\n",
              "      <td>Analyst</td>\n",
              "      <td>Adam</td>\n",
              "      <td>1</td>\n",
              "      <td>30</td>\n",
              "    </tr>\n",
              "    <tr>\n",
              "      <td>Sales</td>\n",
              "      <td>Bachelor</td>\n",
              "      <td>Analyst</td>\n",
              "      <td>Adam</td>\n",
              "      <td>1</td>\n",
              "      <td>30</td>\n",
              "    </tr>\n",
              "  </tbody>\n",
              "</table>\n",
              "</div>"
            ],
            "text/plain": [
              "           Education    Title      Name  Years  Salary\n",
              "Department                                            \n",
              "Admin       Bachelor  Analyst   Beverly      1      30\n",
              "HR          Bachelor  Analyst   Beverly      1      30\n",
              "IT          Bachelor  Analyst      Adam      1      30\n",
              "Sales       Bachelor  Analyst      Adam      1      30"
            ]
          },
          "execution_count": 87,
          "metadata": {},
          "output_type": "execute_result"
        }
      ],
      "source": [
        "# your code here\n",
        "employees.groupby('Department').min()"
      ]
    },
    {
      "cell_type": "code",
      "execution_count": null,
      "metadata": {
        "id": "GBDoQxpU_BFu",
        "outputId": "1052f113-2380-44dd-f801-f0beb3418f56"
      },
      "outputs": [
        {
          "data": {
            "text/html": [
              "<div>\n",
              "<style scoped>\n",
              "    .dataframe tbody tr th:only-of-type {\n",
              "        vertical-align: middle;\n",
              "    }\n",
              "\n",
              "    .dataframe tbody tr th {\n",
              "        vertical-align: top;\n",
              "    }\n",
              "\n",
              "    .dataframe thead th {\n",
              "        text-align: right;\n",
              "    }\n",
              "</style>\n",
              "<table border=\"1\" class=\"dataframe\">\n",
              "  <thead>\n",
              "    <tr style=\"text-align: right;\">\n",
              "      <th></th>\n",
              "      <th>Years</th>\n",
              "      <th>Salary</th>\n",
              "    </tr>\n",
              "    <tr>\n",
              "      <th>Department</th>\n",
              "      <th></th>\n",
              "      <th></th>\n",
              "    </tr>\n",
              "  </thead>\n",
              "  <tbody>\n",
              "    <tr>\n",
              "      <td>Admin</td>\n",
              "      <td>7.642276</td>\n",
              "      <td>76.325203</td>\n",
              "    </tr>\n",
              "    <tr>\n",
              "      <td>HR</td>\n",
              "      <td>7.172131</td>\n",
              "      <td>74.237705</td>\n",
              "    </tr>\n",
              "    <tr>\n",
              "      <td>IT</td>\n",
              "      <td>8.141791</td>\n",
              "      <td>70.671642</td>\n",
              "    </tr>\n",
              "    <tr>\n",
              "      <td>Sales</td>\n",
              "      <td>7.206612</td>\n",
              "      <td>73.132231</td>\n",
              "    </tr>\n",
              "  </tbody>\n",
              "</table>\n",
              "</div>"
            ],
            "text/plain": [
              "               Years     Salary\n",
              "Department                     \n",
              "Admin       7.642276  76.325203\n",
              "HR          7.172131  74.237705\n",
              "IT          8.141791  70.671642\n",
              "Sales       7.206612  73.132231"
            ]
          },
          "execution_count": 88,
          "metadata": {},
          "output_type": "execute_result"
        }
      ],
      "source": [
        "employees.groupby('Department').mean()"
      ]
    },
    {
      "cell_type": "code",
      "execution_count": null,
      "metadata": {
        "id": "InF7UXhp_BFu",
        "outputId": "06d6d4d1-529b-4e90-8789-bf80a15c7b23"
      },
      "outputs": [
        {
          "data": {
            "text/html": [
              "<div>\n",
              "<style scoped>\n",
              "    .dataframe tbody tr th:only-of-type {\n",
              "        vertical-align: middle;\n",
              "    }\n",
              "\n",
              "    .dataframe tbody tr th {\n",
              "        vertical-align: top;\n",
              "    }\n",
              "\n",
              "    .dataframe thead th {\n",
              "        text-align: right;\n",
              "    }\n",
              "</style>\n",
              "<table border=\"1\" class=\"dataframe\">\n",
              "  <thead>\n",
              "    <tr style=\"text-align: right;\">\n",
              "      <th></th>\n",
              "      <th>Education</th>\n",
              "      <th>Title</th>\n",
              "      <th>Name</th>\n",
              "      <th>Years</th>\n",
              "      <th>Salary</th>\n",
              "    </tr>\n",
              "    <tr>\n",
              "      <th>Department</th>\n",
              "      <th></th>\n",
              "      <th></th>\n",
              "      <th></th>\n",
              "      <th></th>\n",
              "      <th></th>\n",
              "    </tr>\n",
              "  </thead>\n",
              "  <tbody>\n",
              "    <tr>\n",
              "      <td>Admin</td>\n",
              "      <td>PhD</td>\n",
              "      <td>associate</td>\n",
              "      <td>Winston</td>\n",
              "      <td>15</td>\n",
              "      <td>120</td>\n",
              "    </tr>\n",
              "    <tr>\n",
              "      <td>HR</td>\n",
              "      <td>PhD</td>\n",
              "      <td>associate</td>\n",
              "      <td>Zach</td>\n",
              "      <td>15</td>\n",
              "      <td>119</td>\n",
              "    </tr>\n",
              "    <tr>\n",
              "      <td>IT</td>\n",
              "      <td>PhD</td>\n",
              "      <td>associate</td>\n",
              "      <td>Winston</td>\n",
              "      <td>15</td>\n",
              "      <td>120</td>\n",
              "    </tr>\n",
              "    <tr>\n",
              "      <td>Sales</td>\n",
              "      <td>PhD</td>\n",
              "      <td>associate</td>\n",
              "      <td>Zach</td>\n",
              "      <td>15</td>\n",
              "      <td>120</td>\n",
              "    </tr>\n",
              "  </tbody>\n",
              "</table>\n",
              "</div>"
            ],
            "text/plain": [
              "           Education      Title     Name  Years  Salary\n",
              "Department                                             \n",
              "Admin            PhD  associate  Winston     15     120\n",
              "HR               PhD  associate     Zach     15     119\n",
              "IT               PhD  associate  Winston     15     120\n",
              "Sales            PhD  associate     Zach     15     120"
            ]
          },
          "execution_count": 89,
          "metadata": {},
          "output_type": "execute_result"
        }
      ],
      "source": [
        "employees.groupby('Department').max()"
      ]
    },
    {
      "cell_type": "markdown",
      "metadata": {
        "id": "lEDj0vt7_BFu"
      },
      "source": [
        "#### Bonus Question:  for each department, compute the difference between the maximum and the minimum salary.\n",
        "**Hint**: try using `agg` or `apply` combined with `lambda` functions."
      ]
    },
    {
      "cell_type": "code",
      "execution_count": null,
      "metadata": {
        "id": "jTIhbLXr_BFu",
        "outputId": "d45c4600-c796-44a7-b247-4307488b145d"
      },
      "outputs": [
        {
          "data": {
            "text/plain": [
              "Department\n",
              "Admin    90\n",
              "HR       89\n",
              "IT       90\n",
              "Sales    90\n",
              "dtype: int64"
            ]
          },
          "execution_count": 90,
          "metadata": {},
          "output_type": "execute_result"
        }
      ],
      "source": [
        "# your code here\n",
        "employees.groupby('Department').apply(lambda row: row['Salary'].max() - row['Salary'].min())"
      ]
    },
    {
      "cell_type": "code",
      "execution_count": null,
      "metadata": {
        "id": "rw37lnvi_BFv",
        "outputId": "2a6b9e1a-d4a4-46b8-bcce-314df8cd1249"
      },
      "outputs": [
        {
          "data": {
            "text/html": [
              "<div>\n",
              "<style scoped>\n",
              "    .dataframe tbody tr th:only-of-type {\n",
              "        vertical-align: middle;\n",
              "    }\n",
              "\n",
              "    .dataframe tbody tr th {\n",
              "        vertical-align: top;\n",
              "    }\n",
              "\n",
              "    .dataframe thead th {\n",
              "        text-align: right;\n",
              "    }\n",
              "</style>\n",
              "<table border=\"1\" class=\"dataframe\">\n",
              "  <thead>\n",
              "    <tr style=\"text-align: right;\">\n",
              "      <th></th>\n",
              "      <th>Salary</th>\n",
              "    </tr>\n",
              "    <tr>\n",
              "      <th>Department</th>\n",
              "      <th></th>\n",
              "    </tr>\n",
              "  </thead>\n",
              "  <tbody>\n",
              "    <tr>\n",
              "      <td>Admin</td>\n",
              "      <td>90</td>\n",
              "    </tr>\n",
              "    <tr>\n",
              "      <td>HR</td>\n",
              "      <td>89</td>\n",
              "    </tr>\n",
              "    <tr>\n",
              "      <td>IT</td>\n",
              "      <td>90</td>\n",
              "    </tr>\n",
              "    <tr>\n",
              "      <td>Sales</td>\n",
              "      <td>90</td>\n",
              "    </tr>\n",
              "  </tbody>\n",
              "</table>\n",
              "</div>"
            ],
            "text/plain": [
              "            Salary\n",
              "Department        \n",
              "Admin           90\n",
              "HR              89\n",
              "IT              90\n",
              "Sales           90"
            ]
          },
          "execution_count": 91,
          "metadata": {},
          "output_type": "execute_result"
        }
      ],
      "source": [
        "#Method-2\n",
        "employees.groupby('Department').agg({'Salary' : lambda department: department.max() - department.min()})"
      ]
    },
    {
      "cell_type": "markdown",
      "metadata": {
        "collapsed": true,
        "id": "q3Dd5JFG_BFv"
      },
      "source": [
        "# Challenge 3\n",
        "#### Open the `Orders` dataset. Name your dataset `orders`."
      ]
    },
    {
      "cell_type": "code",
      "execution_count": null,
      "metadata": {
        "id": "pW8ZeXDK_BFv"
      },
      "outputs": [],
      "source": [
        "# your code here\n",
        "orders=pd.read_csv('Orders - Orders.csv')"
      ]
    },
    {
      "cell_type": "code",
      "execution_count": null,
      "metadata": {
        "id": "Eq5D4WHc_BFv",
        "outputId": "3160bbab-fbf2-4cd8-b974-4a309a920f97"
      },
      "outputs": [
        {
          "data": {
            "text/html": [
              "<div>\n",
              "<style scoped>\n",
              "    .dataframe tbody tr th:only-of-type {\n",
              "        vertical-align: middle;\n",
              "    }\n",
              "\n",
              "    .dataframe tbody tr th {\n",
              "        vertical-align: top;\n",
              "    }\n",
              "\n",
              "    .dataframe thead th {\n",
              "        text-align: right;\n",
              "    }\n",
              "</style>\n",
              "<table border=\"1\" class=\"dataframe\">\n",
              "  <thead>\n",
              "    <tr style=\"text-align: right;\">\n",
              "      <th></th>\n",
              "      <th>Unnamed: 0</th>\n",
              "      <th>InvoiceNo</th>\n",
              "      <th>StockCode</th>\n",
              "      <th>year</th>\n",
              "      <th>month</th>\n",
              "      <th>day</th>\n",
              "      <th>hour</th>\n",
              "      <th>Description</th>\n",
              "      <th>Quantity</th>\n",
              "      <th>InvoiceDate</th>\n",
              "      <th>UnitPrice</th>\n",
              "      <th>CustomerID</th>\n",
              "      <th>Country</th>\n",
              "      <th>amount_spent</th>\n",
              "    </tr>\n",
              "  </thead>\n",
              "  <tbody>\n",
              "    <tr>\n",
              "      <td>0</td>\n",
              "      <td>0</td>\n",
              "      <td>536365</td>\n",
              "      <td>85123A</td>\n",
              "      <td>2010</td>\n",
              "      <td>12</td>\n",
              "      <td>3</td>\n",
              "      <td>8</td>\n",
              "      <td>white hanging heart t-light holder</td>\n",
              "      <td>6</td>\n",
              "      <td>2010-12-01 8:26:00</td>\n",
              "      <td>2.55</td>\n",
              "      <td>17850</td>\n",
              "      <td>United Kingdom</td>\n",
              "      <td>15.30</td>\n",
              "    </tr>\n",
              "    <tr>\n",
              "      <td>1</td>\n",
              "      <td>1</td>\n",
              "      <td>536365</td>\n",
              "      <td>71053</td>\n",
              "      <td>2010</td>\n",
              "      <td>12</td>\n",
              "      <td>3</td>\n",
              "      <td>8</td>\n",
              "      <td>white metal lantern</td>\n",
              "      <td>6</td>\n",
              "      <td>2010-12-01 8:26:00</td>\n",
              "      <td>3.39</td>\n",
              "      <td>17850</td>\n",
              "      <td>United Kingdom</td>\n",
              "      <td>20.34</td>\n",
              "    </tr>\n",
              "    <tr>\n",
              "      <td>2</td>\n",
              "      <td>2</td>\n",
              "      <td>536365</td>\n",
              "      <td>84406B</td>\n",
              "      <td>2010</td>\n",
              "      <td>12</td>\n",
              "      <td>3</td>\n",
              "      <td>8</td>\n",
              "      <td>cream cupid hearts coat hanger</td>\n",
              "      <td>8</td>\n",
              "      <td>2010-12-01 8:26:00</td>\n",
              "      <td>2.75</td>\n",
              "      <td>17850</td>\n",
              "      <td>United Kingdom</td>\n",
              "      <td>22.00</td>\n",
              "    </tr>\n",
              "    <tr>\n",
              "      <td>3</td>\n",
              "      <td>3</td>\n",
              "      <td>536365</td>\n",
              "      <td>84029G</td>\n",
              "      <td>2010</td>\n",
              "      <td>12</td>\n",
              "      <td>3</td>\n",
              "      <td>8</td>\n",
              "      <td>knitted union flag hot water bottle</td>\n",
              "      <td>6</td>\n",
              "      <td>2010-12-01 8:26:00</td>\n",
              "      <td>3.39</td>\n",
              "      <td>17850</td>\n",
              "      <td>United Kingdom</td>\n",
              "      <td>20.34</td>\n",
              "    </tr>\n",
              "    <tr>\n",
              "      <td>4</td>\n",
              "      <td>4</td>\n",
              "      <td>536365</td>\n",
              "      <td>84029E</td>\n",
              "      <td>2010</td>\n",
              "      <td>12</td>\n",
              "      <td>3</td>\n",
              "      <td>8</td>\n",
              "      <td>red woolly hottie white heart.</td>\n",
              "      <td>6</td>\n",
              "      <td>2010-12-01 8:26:00</td>\n",
              "      <td>3.39</td>\n",
              "      <td>17850</td>\n",
              "      <td>United Kingdom</td>\n",
              "      <td>20.34</td>\n",
              "    </tr>\n",
              "  </tbody>\n",
              "</table>\n",
              "</div>"
            ],
            "text/plain": [
              "   Unnamed: 0  InvoiceNo StockCode  year  month  day  hour  \\\n",
              "0           0     536365    85123A  2010     12    3     8   \n",
              "1           1     536365     71053  2010     12    3     8   \n",
              "2           2     536365    84406B  2010     12    3     8   \n",
              "3           3     536365    84029G  2010     12    3     8   \n",
              "4           4     536365    84029E  2010     12    3     8   \n",
              "\n",
              "                           Description  Quantity         InvoiceDate  \\\n",
              "0   white hanging heart t-light holder         6  2010-12-01 8:26:00   \n",
              "1                  white metal lantern         6  2010-12-01 8:26:00   \n",
              "2       cream cupid hearts coat hanger         8  2010-12-01 8:26:00   \n",
              "3  knitted union flag hot water bottle         6  2010-12-01 8:26:00   \n",
              "4       red woolly hottie white heart.         6  2010-12-01 8:26:00   \n",
              "\n",
              "   UnitPrice  CustomerID         Country  amount_spent  \n",
              "0       2.55       17850  United Kingdom         15.30  \n",
              "1       3.39       17850  United Kingdom         20.34  \n",
              "2       2.75       17850  United Kingdom         22.00  \n",
              "3       3.39       17850  United Kingdom         20.34  \n",
              "4       3.39       17850  United Kingdom         20.34  "
            ]
          },
          "execution_count": 94,
          "metadata": {},
          "output_type": "execute_result"
        }
      ],
      "source": [
        "orders.head()"
      ]
    },
    {
      "cell_type": "markdown",
      "metadata": {
        "id": "FbOEXswY_BFv"
      },
      "source": [
        "#### Explore your dataset by looking at the data types and summary statistics. Comment your results."
      ]
    },
    {
      "cell_type": "code",
      "execution_count": null,
      "metadata": {
        "id": "FHLlupF-_BFv",
        "outputId": "d72d9d79-4980-4ae7-b6e6-34637d3a6c6d"
      },
      "outputs": [
        {
          "data": {
            "text/plain": [
              "Unnamed: 0        int64\n",
              "InvoiceNo         int64\n",
              "StockCode        object\n",
              "year              int64\n",
              "month             int64\n",
              "day               int64\n",
              "hour              int64\n",
              "Description      object\n",
              "Quantity          int64\n",
              "InvoiceDate      object\n",
              "UnitPrice       float64\n",
              "CustomerID        int64\n",
              "Country          object\n",
              "amount_spent    float64\n",
              "dtype: object"
            ]
          },
          "execution_count": 95,
          "metadata": {},
          "output_type": "execute_result"
        }
      ],
      "source": [
        "# your code here\n",
        "orders.dtypes"
      ]
    },
    {
      "cell_type": "code",
      "execution_count": null,
      "metadata": {
        "id": "ru3xMK0x_BFv",
        "outputId": "fa3b8ab8-5a09-4470-fc12-52822a64e8d7"
      },
      "outputs": [
        {
          "data": {
            "text/plain": [
              "<bound method DataFrame.info of         Unnamed: 0  InvoiceNo StockCode  year  month  day  hour  \\\n",
              "0                0     536365    85123A  2010     12    3     8   \n",
              "1                1     536365     71053  2010     12    3     8   \n",
              "2                2     536365    84406B  2010     12    3     8   \n",
              "3                3     536365    84029G  2010     12    3     8   \n",
              "4                4     536365    84029E  2010     12    3     8   \n",
              "...            ...        ...       ...   ...    ...  ...   ...   \n",
              "397919      541904     581587     22613  2011     12    5    12   \n",
              "397920      541905     581587     22899  2011     12    5    12   \n",
              "397921      541906     581587     23254  2011     12    5    12   \n",
              "397922      541907     581587     23255  2011     12    5    12   \n",
              "397923      541908     581587     22138  2011     12    5    12   \n",
              "\n",
              "                                Description  Quantity          InvoiceDate  \\\n",
              "0        white hanging heart t-light holder         6   2010-12-01 8:26:00   \n",
              "1                       white metal lantern         6   2010-12-01 8:26:00   \n",
              "2            cream cupid hearts coat hanger         8   2010-12-01 8:26:00   \n",
              "3       knitted union flag hot water bottle         6   2010-12-01 8:26:00   \n",
              "4            red woolly hottie white heart.         6   2010-12-01 8:26:00   \n",
              "...                                     ...       ...                  ...   \n",
              "397919          pack of 20 spaceboy napkins        12  2011-12-09 12:50:00   \n",
              "397920          children's apron dolly girl         6  2011-12-09 12:50:00   \n",
              "397921         childrens cutlery dolly girl         4  2011-12-09 12:50:00   \n",
              "397922      childrens cutlery circus parade         4  2011-12-09 12:50:00   \n",
              "397923         baking set 9 piece retrospot         3  2011-12-09 12:50:00   \n",
              "\n",
              "        UnitPrice  CustomerID         Country  amount_spent  \n",
              "0            2.55       17850  United Kingdom         15.30  \n",
              "1            3.39       17850  United Kingdom         20.34  \n",
              "2            2.75       17850  United Kingdom         22.00  \n",
              "3            3.39       17850  United Kingdom         20.34  \n",
              "4            3.39       17850  United Kingdom         20.34  \n",
              "...           ...         ...             ...           ...  \n",
              "397919       0.85       12680          France         10.20  \n",
              "397920       2.10       12680          France         12.60  \n",
              "397921       4.15       12680          France         16.60  \n",
              "397922       4.15       12680          France         16.60  \n",
              "397923       4.95       12680          France         14.85  \n",
              "\n",
              "[397924 rows x 14 columns]>"
            ]
          },
          "execution_count": 99,
          "metadata": {},
          "output_type": "execute_result"
        }
      ],
      "source": [
        "orders.info"
      ]
    },
    {
      "cell_type": "code",
      "execution_count": null,
      "metadata": {
        "id": "fNqby-fS_BFv",
        "outputId": "82a33258-b422-4bba-f2b8-164347cb2f13"
      },
      "outputs": [
        {
          "data": {
            "text/plain": [
              "<bound method NDFrame.describe of         Unnamed: 0  InvoiceNo StockCode  year  month  day  hour  \\\n",
              "0                0     536365    85123A  2010     12    3     8   \n",
              "1                1     536365     71053  2010     12    3     8   \n",
              "2                2     536365    84406B  2010     12    3     8   \n",
              "3                3     536365    84029G  2010     12    3     8   \n",
              "4                4     536365    84029E  2010     12    3     8   \n",
              "...            ...        ...       ...   ...    ...  ...   ...   \n",
              "397919      541904     581587     22613  2011     12    5    12   \n",
              "397920      541905     581587     22899  2011     12    5    12   \n",
              "397921      541906     581587     23254  2011     12    5    12   \n",
              "397922      541907     581587     23255  2011     12    5    12   \n",
              "397923      541908     581587     22138  2011     12    5    12   \n",
              "\n",
              "                                Description  Quantity          InvoiceDate  \\\n",
              "0        white hanging heart t-light holder         6   2010-12-01 8:26:00   \n",
              "1                       white metal lantern         6   2010-12-01 8:26:00   \n",
              "2            cream cupid hearts coat hanger         8   2010-12-01 8:26:00   \n",
              "3       knitted union flag hot water bottle         6   2010-12-01 8:26:00   \n",
              "4            red woolly hottie white heart.         6   2010-12-01 8:26:00   \n",
              "...                                     ...       ...                  ...   \n",
              "397919          pack of 20 spaceboy napkins        12  2011-12-09 12:50:00   \n",
              "397920          children's apron dolly girl         6  2011-12-09 12:50:00   \n",
              "397921         childrens cutlery dolly girl         4  2011-12-09 12:50:00   \n",
              "397922      childrens cutlery circus parade         4  2011-12-09 12:50:00   \n",
              "397923         baking set 9 piece retrospot         3  2011-12-09 12:50:00   \n",
              "\n",
              "        UnitPrice  CustomerID         Country  amount_spent  \n",
              "0            2.55       17850  United Kingdom         15.30  \n",
              "1            3.39       17850  United Kingdom         20.34  \n",
              "2            2.75       17850  United Kingdom         22.00  \n",
              "3            3.39       17850  United Kingdom         20.34  \n",
              "4            3.39       17850  United Kingdom         20.34  \n",
              "...           ...         ...             ...           ...  \n",
              "397919       0.85       12680          France         10.20  \n",
              "397920       2.10       12680          France         12.60  \n",
              "397921       4.15       12680          France         16.60  \n",
              "397922       4.15       12680          France         16.60  \n",
              "397923       4.95       12680          France         14.85  \n",
              "\n",
              "[397924 rows x 14 columns]>"
            ]
          },
          "execution_count": 102,
          "metadata": {},
          "output_type": "execute_result"
        }
      ],
      "source": [
        "orders.describe()"
      ]
    },
    {
      "cell_type": "markdown",
      "metadata": {
        "id": "eq_I_DMB_BFw"
      },
      "source": [
        "####  What is the average purchase price?"
      ]
    },
    {
      "cell_type": "code",
      "execution_count": null,
      "metadata": {
        "id": "9CArrtdj_BFw",
        "outputId": "3974920f-5435-4964-ff3c-449b83e393b5"
      },
      "outputs": [
        {
          "data": {
            "text/plain": [
              "22.39474850474768"
            ]
          },
          "execution_count": 103,
          "metadata": {},
          "output_type": "execute_result"
        }
      ],
      "source": [
        "# your code here\n",
        "orders['amount_spent'].mean()"
      ]
    },
    {
      "cell_type": "markdown",
      "metadata": {
        "id": "QjCNzvty_BFw"
      },
      "source": [
        "#### What are the highest and lowest purchase prices? "
      ]
    },
    {
      "cell_type": "code",
      "execution_count": null,
      "metadata": {
        "id": "1DJ7PaVV_BFw",
        "outputId": "bf1cae2d-767a-4691-d658-a049a14924e2"
      },
      "outputs": [
        {
          "data": {
            "text/plain": [
              "0.0"
            ]
          },
          "execution_count": 104,
          "metadata": {},
          "output_type": "execute_result"
        }
      ],
      "source": [
        "# your code here\n",
        "orders['amount_spent'].min()"
      ]
    },
    {
      "cell_type": "code",
      "execution_count": null,
      "metadata": {
        "id": "Z5_In4lh_BFw",
        "outputId": "e7449bbe-07d0-455e-e460-ca945adc7cdf"
      },
      "outputs": [
        {
          "data": {
            "text/plain": [
              "168469.6"
            ]
          },
          "execution_count": 105,
          "metadata": {},
          "output_type": "execute_result"
        }
      ],
      "source": [
        "orders['amount_spent'].max()"
      ]
    },
    {
      "cell_type": "markdown",
      "metadata": {
        "id": "jyU0Cbms_BFw"
      },
      "source": [
        "#### Select all the customers from Spain.\n",
        "**Hint**: Remember that you are not asked to find orders from Spain but customers. A customer might have more than one order associated. "
      ]
    },
    {
      "cell_type": "code",
      "execution_count": null,
      "metadata": {
        "id": "Tc89n6TO_BFw",
        "outputId": "002d8f7f-7648-4c92-8cd8-e25377dcab63"
      },
      "outputs": [
        {
          "data": {
            "text/html": [
              "<div>\n",
              "<style scoped>\n",
              "    .dataframe tbody tr th:only-of-type {\n",
              "        vertical-align: middle;\n",
              "    }\n",
              "\n",
              "    .dataframe tbody tr th {\n",
              "        vertical-align: top;\n",
              "    }\n",
              "\n",
              "    .dataframe thead th {\n",
              "        text-align: right;\n",
              "    }\n",
              "</style>\n",
              "<table border=\"1\" class=\"dataframe\">\n",
              "  <thead>\n",
              "    <tr style=\"text-align: right;\">\n",
              "      <th></th>\n",
              "      <th>Unnamed: 0</th>\n",
              "      <th>InvoiceNo</th>\n",
              "      <th>StockCode</th>\n",
              "      <th>year</th>\n",
              "      <th>month</th>\n",
              "      <th>day</th>\n",
              "      <th>hour</th>\n",
              "      <th>Description</th>\n",
              "      <th>Quantity</th>\n",
              "      <th>InvoiceDate</th>\n",
              "      <th>UnitPrice</th>\n",
              "      <th>CustomerID</th>\n",
              "      <th>Country</th>\n",
              "      <th>amount_spent</th>\n",
              "    </tr>\n",
              "  </thead>\n",
              "  <tbody>\n",
              "    <tr>\n",
              "      <td>0</td>\n",
              "      <td>0</td>\n",
              "      <td>536365</td>\n",
              "      <td>85123A</td>\n",
              "      <td>2010</td>\n",
              "      <td>12</td>\n",
              "      <td>3</td>\n",
              "      <td>8</td>\n",
              "      <td>white hanging heart t-light holder</td>\n",
              "      <td>6</td>\n",
              "      <td>2010-12-01 8:26:00</td>\n",
              "      <td>2.55</td>\n",
              "      <td>17850</td>\n",
              "      <td>United Kingdom</td>\n",
              "      <td>15.30</td>\n",
              "    </tr>\n",
              "    <tr>\n",
              "      <td>1</td>\n",
              "      <td>1</td>\n",
              "      <td>536365</td>\n",
              "      <td>71053</td>\n",
              "      <td>2010</td>\n",
              "      <td>12</td>\n",
              "      <td>3</td>\n",
              "      <td>8</td>\n",
              "      <td>white metal lantern</td>\n",
              "      <td>6</td>\n",
              "      <td>2010-12-01 8:26:00</td>\n",
              "      <td>3.39</td>\n",
              "      <td>17850</td>\n",
              "      <td>United Kingdom</td>\n",
              "      <td>20.34</td>\n",
              "    </tr>\n",
              "  </tbody>\n",
              "</table>\n",
              "</div>"
            ],
            "text/plain": [
              "   Unnamed: 0  InvoiceNo StockCode  year  month  day  hour  \\\n",
              "0           0     536365    85123A  2010     12    3     8   \n",
              "1           1     536365     71053  2010     12    3     8   \n",
              "\n",
              "                          Description  Quantity         InvoiceDate  \\\n",
              "0  white hanging heart t-light holder         6  2010-12-01 8:26:00   \n",
              "1                 white metal lantern         6  2010-12-01 8:26:00   \n",
              "\n",
              "   UnitPrice  CustomerID         Country  amount_spent  \n",
              "0       2.55       17850  United Kingdom         15.30  \n",
              "1       3.39       17850  United Kingdom         20.34  "
            ]
          },
          "execution_count": 106,
          "metadata": {},
          "output_type": "execute_result"
        }
      ],
      "source": [
        "orders.head(2)"
      ]
    },
    {
      "cell_type": "code",
      "execution_count": null,
      "metadata": {
        "id": "WgzZxo0u_BFw",
        "outputId": "63cf3d6e-86a6-4b6c-d6df-19d9c743eb23"
      },
      "outputs": [
        {
          "data": {
            "text/plain": [
              "0     12557\n",
              "1     17097\n",
              "2     12540\n",
              "3     12551\n",
              "4     12484\n",
              "5     12539\n",
              "6     12510\n",
              "7     12421\n",
              "8     12502\n",
              "9     12462\n",
              "10    12507\n",
              "11    12541\n",
              "12    12547\n",
              "13    12597\n",
              "14    12545\n",
              "15    12596\n",
              "16    12354\n",
              "17    12417\n",
              "18    12455\n",
              "19    12450\n",
              "20    12548\n",
              "21    12556\n",
              "22    12550\n",
              "23    12546\n",
              "24    12454\n",
              "25    12448\n",
              "26    12544\n",
              "27    12538\n",
              "28    12445\n",
              "29    12442\n",
              "dtype: int64"
            ]
          },
          "execution_count": 115,
          "metadata": {},
          "output_type": "execute_result"
        }
      ],
      "source": [
        "# your code here\n",
        "spanish_customers= pd.Series(orders[orders['Country']=='Spain']['CustomerID'].unique())\n",
        "spanish_customers"
      ]
    },
    {
      "cell_type": "markdown",
      "metadata": {
        "id": "51mskhNr_BFw"
      },
      "source": [
        "#### How many customers do we have in Spain?"
      ]
    },
    {
      "cell_type": "code",
      "execution_count": null,
      "metadata": {
        "id": "H73JGZXd_BFw",
        "outputId": "30c24cd0-9dd6-4ff1-b075-a53651a9656c"
      },
      "outputs": [
        {
          "data": {
            "text/plain": [
              "30"
            ]
          },
          "execution_count": 116,
          "metadata": {},
          "output_type": "execute_result"
        }
      ],
      "source": [
        "# your code here\n",
        "len(spanish_customers)"
      ]
    },
    {
      "cell_type": "markdown",
      "metadata": {
        "id": "04409IL9_BFw"
      },
      "source": [
        "#### Select all the customers who have bought more than 50 items.\n",
        "**Hint**: Remember that you are not asked to find orders with more than 50 items but customers who bought more than 50 items. A customer with two orders of 30 items each should appear in the selection."
      ]
    },
    {
      "cell_type": "code",
      "execution_count": null,
      "metadata": {
        "id": "NRFfsmGQ_BFw",
        "outputId": "ec5d6144-5f38-4324-f205-eef9e375855c"
      },
      "outputs": [
        {
          "data": {
            "text/html": [
              "<div>\n",
              "<style scoped>\n",
              "    .dataframe tbody tr th:only-of-type {\n",
              "        vertical-align: middle;\n",
              "    }\n",
              "\n",
              "    .dataframe tbody tr th {\n",
              "        vertical-align: top;\n",
              "    }\n",
              "\n",
              "    .dataframe thead th {\n",
              "        text-align: right;\n",
              "    }\n",
              "</style>\n",
              "<table border=\"1\" class=\"dataframe\">\n",
              "  <thead>\n",
              "    <tr style=\"text-align: right;\">\n",
              "      <th></th>\n",
              "      <th>Unnamed: 0</th>\n",
              "      <th>InvoiceNo</th>\n",
              "      <th>year</th>\n",
              "      <th>month</th>\n",
              "      <th>day</th>\n",
              "      <th>hour</th>\n",
              "      <th>Quantity</th>\n",
              "      <th>UnitPrice</th>\n",
              "      <th>amount_spent</th>\n",
              "    </tr>\n",
              "    <tr>\n",
              "      <th>CustomerID</th>\n",
              "      <th></th>\n",
              "      <th></th>\n",
              "      <th></th>\n",
              "      <th></th>\n",
              "      <th></th>\n",
              "      <th></th>\n",
              "      <th></th>\n",
              "      <th></th>\n",
              "      <th></th>\n",
              "    </tr>\n",
              "  </thead>\n",
              "  <tbody>\n",
              "    <tr>\n",
              "      <td>12346</td>\n",
              "      <td>61619</td>\n",
              "      <td>541431</td>\n",
              "      <td>2011</td>\n",
              "      <td>1</td>\n",
              "      <td>2</td>\n",
              "      <td>10</td>\n",
              "      <td>74215</td>\n",
              "      <td>1.04</td>\n",
              "      <td>77183.60</td>\n",
              "    </tr>\n",
              "    <tr>\n",
              "      <td>12347</td>\n",
              "      <td>42441700</td>\n",
              "      <td>101296926</td>\n",
              "      <td>365971</td>\n",
              "      <td>1383</td>\n",
              "      <td>441</td>\n",
              "      <td>2219</td>\n",
              "      <td>2458</td>\n",
              "      <td>481.21</td>\n",
              "      <td>4310.00</td>\n",
              "    </tr>\n",
              "    <tr>\n",
              "      <td>12348</td>\n",
              "      <td>2807120</td>\n",
              "      <td>16869685</td>\n",
              "      <td>62324</td>\n",
              "      <td>257</td>\n",
              "      <td>111</td>\n",
              "      <td>472</td>\n",
              "      <td>2341</td>\n",
              "      <td>178.71</td>\n",
              "      <td>1797.24</td>\n",
              "    </tr>\n",
              "    <tr>\n",
              "      <td>12349</td>\n",
              "      <td>35444274</td>\n",
              "      <td>42165457</td>\n",
              "      <td>146803</td>\n",
              "      <td>803</td>\n",
              "      <td>73</td>\n",
              "      <td>657</td>\n",
              "      <td>631</td>\n",
              "      <td>605.10</td>\n",
              "      <td>1757.55</td>\n",
              "    </tr>\n",
              "    <tr>\n",
              "      <td>12350</td>\n",
              "      <td>1365627</td>\n",
              "      <td>9231629</td>\n",
              "      <td>34187</td>\n",
              "      <td>34</td>\n",
              "      <td>51</td>\n",
              "      <td>272</td>\n",
              "      <td>197</td>\n",
              "      <td>65.30</td>\n",
              "      <td>334.40</td>\n",
              "    </tr>\n",
              "    <tr>\n",
              "      <td>...</td>\n",
              "      <td>...</td>\n",
              "      <td>...</td>\n",
              "      <td>...</td>\n",
              "      <td>...</td>\n",
              "      <td>...</td>\n",
              "      <td>...</td>\n",
              "      <td>...</td>\n",
              "      <td>...</td>\n",
              "      <td>...</td>\n",
              "    </tr>\n",
              "    <tr>\n",
              "      <td>18280</td>\n",
              "      <td>1110495</td>\n",
              "      <td>5457120</td>\n",
              "      <td>20110</td>\n",
              "      <td>30</td>\n",
              "      <td>10</td>\n",
              "      <td>90</td>\n",
              "      <td>45</td>\n",
              "      <td>47.65</td>\n",
              "      <td>180.60</td>\n",
              "    </tr>\n",
              "    <tr>\n",
              "      <td>18281</td>\n",
              "      <td>1560699</td>\n",
              "      <td>3895248</td>\n",
              "      <td>14077</td>\n",
              "      <td>42</td>\n",
              "      <td>49</td>\n",
              "      <td>70</td>\n",
              "      <td>54</td>\n",
              "      <td>39.36</td>\n",
              "      <td>80.82</td>\n",
              "    </tr>\n",
              "    <tr>\n",
              "      <td>18282</td>\n",
              "      <td>4642134</td>\n",
              "      <td>6838540</td>\n",
              "      <td>24132</td>\n",
              "      <td>116</td>\n",
              "      <td>60</td>\n",
              "      <td>146</td>\n",
              "      <td>103</td>\n",
              "      <td>62.39</td>\n",
              "      <td>178.05</td>\n",
              "    </tr>\n",
              "    <tr>\n",
              "      <td>18283</td>\n",
              "      <td>233950830</td>\n",
              "      <td>425704048</td>\n",
              "      <td>1520316</td>\n",
              "      <td>5503</td>\n",
              "      <td>2489</td>\n",
              "      <td>10346</td>\n",
              "      <td>1397</td>\n",
              "      <td>1220.93</td>\n",
              "      <td>2094.88</td>\n",
              "    </tr>\n",
              "    <tr>\n",
              "      <td>18287</td>\n",
              "      <td>21958901</td>\n",
              "      <td>39474556</td>\n",
              "      <td>140770</td>\n",
              "      <td>555</td>\n",
              "      <td>332</td>\n",
              "      <td>697</td>\n",
              "      <td>1586</td>\n",
              "      <td>104.55</td>\n",
              "      <td>1837.28</td>\n",
              "    </tr>\n",
              "  </tbody>\n",
              "</table>\n",
              "<p>4339 rows × 9 columns</p>\n",
              "</div>"
            ],
            "text/plain": [
              "            Unnamed: 0  InvoiceNo     year  month   day   hour  Quantity  \\\n",
              "CustomerID                                                                 \n",
              "12346            61619     541431     2011      1     2     10     74215   \n",
              "12347         42441700  101296926   365971   1383   441   2219      2458   \n",
              "12348          2807120   16869685    62324    257   111    472      2341   \n",
              "12349         35444274   42165457   146803    803    73    657       631   \n",
              "12350          1365627    9231629    34187     34    51    272       197   \n",
              "...                ...        ...      ...    ...   ...    ...       ...   \n",
              "18280          1110495    5457120    20110     30    10     90        45   \n",
              "18281          1560699    3895248    14077     42    49     70        54   \n",
              "18282          4642134    6838540    24132    116    60    146       103   \n",
              "18283        233950830  425704048  1520316   5503  2489  10346      1397   \n",
              "18287         21958901   39474556   140770    555   332    697      1586   \n",
              "\n",
              "            UnitPrice  amount_spent  \n",
              "CustomerID                           \n",
              "12346            1.04      77183.60  \n",
              "12347          481.21       4310.00  \n",
              "12348          178.71       1797.24  \n",
              "12349          605.10       1757.55  \n",
              "12350           65.30        334.40  \n",
              "...               ...           ...  \n",
              "18280           47.65        180.60  \n",
              "18281           39.36         80.82  \n",
              "18282           62.39        178.05  \n",
              "18283         1220.93       2094.88  \n",
              "18287          104.55       1837.28  \n",
              "\n",
              "[4339 rows x 9 columns]"
            ]
          },
          "execution_count": 118,
          "metadata": {},
          "output_type": "execute_result"
        }
      ],
      "source": [
        "# your code here\n",
        "customers_total_quantity = orders.groupby('CustomerID').sum();\n",
        "customers_total_quantity"
      ]
    },
    {
      "cell_type": "code",
      "execution_count": null,
      "metadata": {
        "id": "dqwuis0p_BFx",
        "outputId": "6c6728f4-829c-4d6f-f348-4d9eccb21603"
      },
      "outputs": [
        {
          "data": {
            "text/plain": [
              "0    12346\n",
              "1    12347\n",
              "2    12348\n",
              "3    12349\n",
              "4    12350\n",
              "Name: CustomerID, dtype: int64"
            ]
          },
          "execution_count": 119,
          "metadata": {},
          "output_type": "execute_result"
        }
      ],
      "source": [
        "customers_more_50 = pd.Series(customers_total_quantity[customers_total_quantity['Quantity'] > 50].index);\n",
        "customers_more_50.head()"
      ]
    },
    {
      "cell_type": "markdown",
      "metadata": {
        "id": "uOiTs4Zo_BFx"
      },
      "source": [
        "#### Select orders from Spain that include more than 50 items."
      ]
    },
    {
      "cell_type": "code",
      "execution_count": null,
      "metadata": {
        "id": "XxWqkVio_BFx",
        "outputId": "acdae34a-501d-47bc-d00e-472aea820fe3"
      },
      "outputs": [
        {
          "data": {
            "text/html": [
              "<div>\n",
              "<style scoped>\n",
              "    .dataframe tbody tr th:only-of-type {\n",
              "        vertical-align: middle;\n",
              "    }\n",
              "\n",
              "    .dataframe tbody tr th {\n",
              "        vertical-align: top;\n",
              "    }\n",
              "\n",
              "    .dataframe thead th {\n",
              "        text-align: right;\n",
              "    }\n",
              "</style>\n",
              "<table border=\"1\" class=\"dataframe\">\n",
              "  <thead>\n",
              "    <tr style=\"text-align: right;\">\n",
              "      <th></th>\n",
              "      <th>Unnamed: 0</th>\n",
              "      <th>InvoiceNo</th>\n",
              "      <th>StockCode</th>\n",
              "      <th>year</th>\n",
              "      <th>month</th>\n",
              "      <th>day</th>\n",
              "      <th>hour</th>\n",
              "      <th>Description</th>\n",
              "      <th>Quantity</th>\n",
              "      <th>InvoiceDate</th>\n",
              "      <th>UnitPrice</th>\n",
              "      <th>CustomerID</th>\n",
              "      <th>Country</th>\n",
              "      <th>amount_spent</th>\n",
              "    </tr>\n",
              "  </thead>\n",
              "  <tbody>\n",
              "    <tr>\n",
              "      <td>4250</td>\n",
              "      <td>6421</td>\n",
              "      <td>536944</td>\n",
              "      <td>22383</td>\n",
              "      <td>2010</td>\n",
              "      <td>12</td>\n",
              "      <td>5</td>\n",
              "      <td>12</td>\n",
              "      <td>lunch bag suki  design</td>\n",
              "      <td>70</td>\n",
              "      <td>2010-12-03 12:20:00</td>\n",
              "      <td>1.65</td>\n",
              "      <td>12557</td>\n",
              "      <td>Spain</td>\n",
              "      <td>115.5</td>\n",
              "    </tr>\n",
              "    <tr>\n",
              "      <td>4251</td>\n",
              "      <td>6422</td>\n",
              "      <td>536944</td>\n",
              "      <td>22384</td>\n",
              "      <td>2010</td>\n",
              "      <td>12</td>\n",
              "      <td>5</td>\n",
              "      <td>12</td>\n",
              "      <td>lunch bag pink polkadot</td>\n",
              "      <td>100</td>\n",
              "      <td>2010-12-03 12:20:00</td>\n",
              "      <td>1.45</td>\n",
              "      <td>12557</td>\n",
              "      <td>Spain</td>\n",
              "      <td>145.0</td>\n",
              "    </tr>\n",
              "    <tr>\n",
              "      <td>4252</td>\n",
              "      <td>6423</td>\n",
              "      <td>536944</td>\n",
              "      <td>20727</td>\n",
              "      <td>2010</td>\n",
              "      <td>12</td>\n",
              "      <td>5</td>\n",
              "      <td>12</td>\n",
              "      <td>lunch bag  black skull.</td>\n",
              "      <td>60</td>\n",
              "      <td>2010-12-03 12:20:00</td>\n",
              "      <td>1.65</td>\n",
              "      <td>12557</td>\n",
              "      <td>Spain</td>\n",
              "      <td>99.0</td>\n",
              "    </tr>\n",
              "    <tr>\n",
              "      <td>4253</td>\n",
              "      <td>6424</td>\n",
              "      <td>536944</td>\n",
              "      <td>20725</td>\n",
              "      <td>2010</td>\n",
              "      <td>12</td>\n",
              "      <td>5</td>\n",
              "      <td>12</td>\n",
              "      <td>lunch bag red retrospot</td>\n",
              "      <td>70</td>\n",
              "      <td>2010-12-03 12:20:00</td>\n",
              "      <td>1.65</td>\n",
              "      <td>12557</td>\n",
              "      <td>Spain</td>\n",
              "      <td>115.5</td>\n",
              "    </tr>\n",
              "    <tr>\n",
              "      <td>4254</td>\n",
              "      <td>6425</td>\n",
              "      <td>536944</td>\n",
              "      <td>20728</td>\n",
              "      <td>2010</td>\n",
              "      <td>12</td>\n",
              "      <td>5</td>\n",
              "      <td>12</td>\n",
              "      <td>lunch bag cars blue</td>\n",
              "      <td>100</td>\n",
              "      <td>2010-12-03 12:20:00</td>\n",
              "      <td>1.45</td>\n",
              "      <td>12557</td>\n",
              "      <td>Spain</td>\n",
              "      <td>145.0</td>\n",
              "    </tr>\n",
              "  </tbody>\n",
              "</table>\n",
              "</div>"
            ],
            "text/plain": [
              "      Unnamed: 0  InvoiceNo StockCode  year  month  day  hour  \\\n",
              "4250        6421     536944     22383  2010     12    5    12   \n",
              "4251        6422     536944     22384  2010     12    5    12   \n",
              "4252        6423     536944     20727  2010     12    5    12   \n",
              "4253        6424     536944     20725  2010     12    5    12   \n",
              "4254        6425     536944     20728  2010     12    5    12   \n",
              "\n",
              "                  Description  Quantity          InvoiceDate  UnitPrice  \\\n",
              "4250   lunch bag suki  design        70  2010-12-03 12:20:00       1.65   \n",
              "4251  lunch bag pink polkadot       100  2010-12-03 12:20:00       1.45   \n",
              "4252  lunch bag  black skull.        60  2010-12-03 12:20:00       1.65   \n",
              "4253  lunch bag red retrospot        70  2010-12-03 12:20:00       1.65   \n",
              "4254      lunch bag cars blue       100  2010-12-03 12:20:00       1.45   \n",
              "\n",
              "      CustomerID Country  amount_spent  \n",
              "4250       12557   Spain         115.5  \n",
              "4251       12557   Spain         145.0  \n",
              "4252       12557   Spain          99.0  \n",
              "4253       12557   Spain         115.5  \n",
              "4254       12557   Spain         145.0  "
            ]
          },
          "execution_count": 120,
          "metadata": {},
          "output_type": "execute_result"
        }
      ],
      "source": [
        "# your code here\n",
        "orders[(orders['Country'] == 'Spain') & (orders['Quantity'] > 50)].head()"
      ]
    },
    {
      "cell_type": "markdown",
      "metadata": {
        "id": "07HgTGRZ_BFx"
      },
      "source": [
        "#### Select all free orders."
      ]
    },
    {
      "cell_type": "code",
      "execution_count": null,
      "metadata": {
        "id": "bqcHfOT2_BFx",
        "outputId": "66941254-c0ee-4f32-a4bc-3dcf7d31271c"
      },
      "outputs": [
        {
          "data": {
            "text/html": [
              "<div>\n",
              "<style scoped>\n",
              "    .dataframe tbody tr th:only-of-type {\n",
              "        vertical-align: middle;\n",
              "    }\n",
              "\n",
              "    .dataframe tbody tr th {\n",
              "        vertical-align: top;\n",
              "    }\n",
              "\n",
              "    .dataframe thead th {\n",
              "        text-align: right;\n",
              "    }\n",
              "</style>\n",
              "<table border=\"1\" class=\"dataframe\">\n",
              "  <thead>\n",
              "    <tr style=\"text-align: right;\">\n",
              "      <th></th>\n",
              "      <th>Unnamed: 0</th>\n",
              "      <th>InvoiceNo</th>\n",
              "      <th>StockCode</th>\n",
              "      <th>year</th>\n",
              "      <th>month</th>\n",
              "      <th>day</th>\n",
              "      <th>hour</th>\n",
              "      <th>Description</th>\n",
              "      <th>Quantity</th>\n",
              "      <th>InvoiceDate</th>\n",
              "      <th>UnitPrice</th>\n",
              "      <th>CustomerID</th>\n",
              "      <th>Country</th>\n",
              "      <th>amount_spent</th>\n",
              "    </tr>\n",
              "  </thead>\n",
              "  <tbody>\n",
              "    <tr>\n",
              "      <td>6914</td>\n",
              "      <td>9302</td>\n",
              "      <td>537197</td>\n",
              "      <td>22841</td>\n",
              "      <td>2010</td>\n",
              "      <td>12</td>\n",
              "      <td>7</td>\n",
              "      <td>14</td>\n",
              "      <td>round cake tin vintage green</td>\n",
              "      <td>1</td>\n",
              "      <td>2010-12-05 14:02:00</td>\n",
              "      <td>0.0</td>\n",
              "      <td>12647</td>\n",
              "      <td>Germany</td>\n",
              "      <td>0.0</td>\n",
              "    </tr>\n",
              "    <tr>\n",
              "      <td>22539</td>\n",
              "      <td>33576</td>\n",
              "      <td>539263</td>\n",
              "      <td>22580</td>\n",
              "      <td>2010</td>\n",
              "      <td>12</td>\n",
              "      <td>4</td>\n",
              "      <td>14</td>\n",
              "      <td>advent calendar gingham sack</td>\n",
              "      <td>4</td>\n",
              "      <td>2010-12-16 14:36:00</td>\n",
              "      <td>0.0</td>\n",
              "      <td>16560</td>\n",
              "      <td>United Kingdom</td>\n",
              "      <td>0.0</td>\n",
              "    </tr>\n",
              "    <tr>\n",
              "      <td>25379</td>\n",
              "      <td>40089</td>\n",
              "      <td>539722</td>\n",
              "      <td>22423</td>\n",
              "      <td>2010</td>\n",
              "      <td>12</td>\n",
              "      <td>2</td>\n",
              "      <td>13</td>\n",
              "      <td>regency cakestand 3 tier</td>\n",
              "      <td>10</td>\n",
              "      <td>2010-12-21 13:45:00</td>\n",
              "      <td>0.0</td>\n",
              "      <td>14911</td>\n",
              "      <td>EIRE</td>\n",
              "      <td>0.0</td>\n",
              "    </tr>\n",
              "    <tr>\n",
              "      <td>29080</td>\n",
              "      <td>47068</td>\n",
              "      <td>540372</td>\n",
              "      <td>22090</td>\n",
              "      <td>2011</td>\n",
              "      <td>1</td>\n",
              "      <td>4</td>\n",
              "      <td>16</td>\n",
              "      <td>paper bunting retrospot</td>\n",
              "      <td>24</td>\n",
              "      <td>2011-01-06 16:41:00</td>\n",
              "      <td>0.0</td>\n",
              "      <td>13081</td>\n",
              "      <td>United Kingdom</td>\n",
              "      <td>0.0</td>\n",
              "    </tr>\n",
              "    <tr>\n",
              "      <td>29082</td>\n",
              "      <td>47070</td>\n",
              "      <td>540372</td>\n",
              "      <td>22553</td>\n",
              "      <td>2011</td>\n",
              "      <td>1</td>\n",
              "      <td>4</td>\n",
              "      <td>16</td>\n",
              "      <td>plasters in tin skulls</td>\n",
              "      <td>24</td>\n",
              "      <td>2011-01-06 16:41:00</td>\n",
              "      <td>0.0</td>\n",
              "      <td>13081</td>\n",
              "      <td>United Kingdom</td>\n",
              "      <td>0.0</td>\n",
              "    </tr>\n",
              "  </tbody>\n",
              "</table>\n",
              "</div>"
            ],
            "text/plain": [
              "       Unnamed: 0  InvoiceNo StockCode  year  month  day  hour  \\\n",
              "6914         9302     537197     22841  2010     12    7    14   \n",
              "22539       33576     539263     22580  2010     12    4    14   \n",
              "25379       40089     539722     22423  2010     12    2    13   \n",
              "29080       47068     540372     22090  2011      1    4    16   \n",
              "29082       47070     540372     22553  2011      1    4    16   \n",
              "\n",
              "                        Description  Quantity          InvoiceDate  UnitPrice  \\\n",
              "6914   round cake tin vintage green         1  2010-12-05 14:02:00        0.0   \n",
              "22539  advent calendar gingham sack         4  2010-12-16 14:36:00        0.0   \n",
              "25379      regency cakestand 3 tier        10  2010-12-21 13:45:00        0.0   \n",
              "29080       paper bunting retrospot        24  2011-01-06 16:41:00        0.0   \n",
              "29082        plasters in tin skulls        24  2011-01-06 16:41:00        0.0   \n",
              "\n",
              "       CustomerID         Country  amount_spent  \n",
              "6914        12647         Germany           0.0  \n",
              "22539       16560  United Kingdom           0.0  \n",
              "25379       14911            EIRE           0.0  \n",
              "29080       13081  United Kingdom           0.0  \n",
              "29082       13081  United Kingdom           0.0  "
            ]
          },
          "execution_count": 121,
          "metadata": {},
          "output_type": "execute_result"
        }
      ],
      "source": [
        "# your code here\n",
        "orders[orders['amount_spent'] == 0].head()"
      ]
    },
    {
      "cell_type": "markdown",
      "metadata": {
        "id": "c3ZiPjA8_BFx"
      },
      "source": [
        "#### Select all orders whose description starts with `lunch bag`.\n",
        "**Hint**: use string functions."
      ]
    },
    {
      "cell_type": "code",
      "execution_count": null,
      "metadata": {
        "id": "Y1NvMlgh_BFy",
        "outputId": "0e5e8d99-37c3-4747-b518-fd39f54c1fca"
      },
      "outputs": [
        {
          "data": {
            "text/html": [
              "<div>\n",
              "<style scoped>\n",
              "    .dataframe tbody tr th:only-of-type {\n",
              "        vertical-align: middle;\n",
              "    }\n",
              "\n",
              "    .dataframe tbody tr th {\n",
              "        vertical-align: top;\n",
              "    }\n",
              "\n",
              "    .dataframe thead th {\n",
              "        text-align: right;\n",
              "    }\n",
              "</style>\n",
              "<table border=\"1\" class=\"dataframe\">\n",
              "  <thead>\n",
              "    <tr style=\"text-align: right;\">\n",
              "      <th></th>\n",
              "      <th>Unnamed: 0</th>\n",
              "      <th>InvoiceNo</th>\n",
              "      <th>StockCode</th>\n",
              "      <th>year</th>\n",
              "      <th>month</th>\n",
              "      <th>day</th>\n",
              "      <th>hour</th>\n",
              "      <th>Description</th>\n",
              "      <th>Quantity</th>\n",
              "      <th>InvoiceDate</th>\n",
              "      <th>UnitPrice</th>\n",
              "      <th>CustomerID</th>\n",
              "      <th>Country</th>\n",
              "      <th>amount_spent</th>\n",
              "    </tr>\n",
              "  </thead>\n",
              "  <tbody>\n",
              "    <tr>\n",
              "      <td>93</td>\n",
              "      <td>93</td>\n",
              "      <td>536378</td>\n",
              "      <td>20725</td>\n",
              "      <td>2010</td>\n",
              "      <td>12</td>\n",
              "      <td>3</td>\n",
              "      <td>9</td>\n",
              "      <td>lunch bag red retrospot</td>\n",
              "      <td>10</td>\n",
              "      <td>2010-12-01 9:37:00</td>\n",
              "      <td>1.65</td>\n",
              "      <td>14688</td>\n",
              "      <td>United Kingdom</td>\n",
              "      <td>16.50</td>\n",
              "    </tr>\n",
              "    <tr>\n",
              "      <td>172</td>\n",
              "      <td>174</td>\n",
              "      <td>536385</td>\n",
              "      <td>22662</td>\n",
              "      <td>2010</td>\n",
              "      <td>12</td>\n",
              "      <td>3</td>\n",
              "      <td>9</td>\n",
              "      <td>lunch bag dolly girl design</td>\n",
              "      <td>10</td>\n",
              "      <td>2010-12-01 9:56:00</td>\n",
              "      <td>1.65</td>\n",
              "      <td>17420</td>\n",
              "      <td>United Kingdom</td>\n",
              "      <td>16.50</td>\n",
              "    </tr>\n",
              "    <tr>\n",
              "      <td>354</td>\n",
              "      <td>363</td>\n",
              "      <td>536401</td>\n",
              "      <td>22662</td>\n",
              "      <td>2010</td>\n",
              "      <td>12</td>\n",
              "      <td>3</td>\n",
              "      <td>11</td>\n",
              "      <td>lunch bag dolly girl design</td>\n",
              "      <td>1</td>\n",
              "      <td>2010-12-01 11:21:00</td>\n",
              "      <td>1.65</td>\n",
              "      <td>15862</td>\n",
              "      <td>United Kingdom</td>\n",
              "      <td>1.65</td>\n",
              "    </tr>\n",
              "    <tr>\n",
              "      <td>359</td>\n",
              "      <td>368</td>\n",
              "      <td>536401</td>\n",
              "      <td>20725</td>\n",
              "      <td>2010</td>\n",
              "      <td>12</td>\n",
              "      <td>3</td>\n",
              "      <td>11</td>\n",
              "      <td>lunch bag red retrospot</td>\n",
              "      <td>1</td>\n",
              "      <td>2010-12-01 11:21:00</td>\n",
              "      <td>1.65</td>\n",
              "      <td>15862</td>\n",
              "      <td>United Kingdom</td>\n",
              "      <td>1.65</td>\n",
              "    </tr>\n",
              "    <tr>\n",
              "      <td>360</td>\n",
              "      <td>369</td>\n",
              "      <td>536401</td>\n",
              "      <td>22382</td>\n",
              "      <td>2010</td>\n",
              "      <td>12</td>\n",
              "      <td>3</td>\n",
              "      <td>11</td>\n",
              "      <td>lunch bag spaceboy design</td>\n",
              "      <td>2</td>\n",
              "      <td>2010-12-01 11:21:00</td>\n",
              "      <td>1.65</td>\n",
              "      <td>15862</td>\n",
              "      <td>United Kingdom</td>\n",
              "      <td>3.30</td>\n",
              "    </tr>\n",
              "  </tbody>\n",
              "</table>\n",
              "</div>"
            ],
            "text/plain": [
              "     Unnamed: 0  InvoiceNo StockCode  year  month  day  hour  \\\n",
              "93           93     536378     20725  2010     12    3     9   \n",
              "172         174     536385     22662  2010     12    3     9   \n",
              "354         363     536401     22662  2010     12    3    11   \n",
              "359         368     536401     20725  2010     12    3    11   \n",
              "360         369     536401     22382  2010     12    3    11   \n",
              "\n",
              "                     Description  Quantity          InvoiceDate  UnitPrice  \\\n",
              "93       lunch bag red retrospot        10   2010-12-01 9:37:00       1.65   \n",
              "172  lunch bag dolly girl design        10   2010-12-01 9:56:00       1.65   \n",
              "354  lunch bag dolly girl design         1  2010-12-01 11:21:00       1.65   \n",
              "359      lunch bag red retrospot         1  2010-12-01 11:21:00       1.65   \n",
              "360    lunch bag spaceboy design         2  2010-12-01 11:21:00       1.65   \n",
              "\n",
              "     CustomerID         Country  amount_spent  \n",
              "93        14688  United Kingdom         16.50  \n",
              "172       17420  United Kingdom         16.50  \n",
              "354       15862  United Kingdom          1.65  \n",
              "359       15862  United Kingdom          1.65  \n",
              "360       15862  United Kingdom          3.30  "
            ]
          },
          "execution_count": 122,
          "metadata": {},
          "output_type": "execute_result"
        }
      ],
      "source": [
        "# your code here\n",
        "orders[orders['Description'].str.startswith('lunch bag')].head()"
      ]
    },
    {
      "cell_type": "markdown",
      "metadata": {
        "id": "jG2oYZ9o_BFy"
      },
      "source": [
        "#### Select all `lunch bag` orders made in 2011."
      ]
    },
    {
      "cell_type": "code",
      "execution_count": null,
      "metadata": {
        "id": "z0V00Pxz_BFy",
        "outputId": "4a409030-7c69-4dc0-c627-5b4a3721bc46"
      },
      "outputs": [
        {
          "data": {
            "text/html": [
              "<div>\n",
              "<style scoped>\n",
              "    .dataframe tbody tr th:only-of-type {\n",
              "        vertical-align: middle;\n",
              "    }\n",
              "\n",
              "    .dataframe tbody tr th {\n",
              "        vertical-align: top;\n",
              "    }\n",
              "\n",
              "    .dataframe thead th {\n",
              "        text-align: right;\n",
              "    }\n",
              "</style>\n",
              "<table border=\"1\" class=\"dataframe\">\n",
              "  <thead>\n",
              "    <tr style=\"text-align: right;\">\n",
              "      <th></th>\n",
              "      <th>Unnamed: 0</th>\n",
              "      <th>InvoiceNo</th>\n",
              "      <th>StockCode</th>\n",
              "      <th>year</th>\n",
              "      <th>month</th>\n",
              "      <th>day</th>\n",
              "      <th>hour</th>\n",
              "      <th>Description</th>\n",
              "      <th>Quantity</th>\n",
              "      <th>InvoiceDate</th>\n",
              "      <th>UnitPrice</th>\n",
              "      <th>CustomerID</th>\n",
              "      <th>Country</th>\n",
              "      <th>amount_spent</th>\n",
              "    </tr>\n",
              "  </thead>\n",
              "  <tbody>\n",
              "    <tr>\n",
              "      <td>26340</td>\n",
              "      <td>42678</td>\n",
              "      <td>540015</td>\n",
              "      <td>20725</td>\n",
              "      <td>2011</td>\n",
              "      <td>1</td>\n",
              "      <td>2</td>\n",
              "      <td>11</td>\n",
              "      <td>lunch bag red retrospot</td>\n",
              "      <td>10</td>\n",
              "      <td>2011-01-04 11:40:00</td>\n",
              "      <td>1.65</td>\n",
              "      <td>13319</td>\n",
              "      <td>United Kingdom</td>\n",
              "      <td>16.50</td>\n",
              "    </tr>\n",
              "    <tr>\n",
              "      <td>26341</td>\n",
              "      <td>42679</td>\n",
              "      <td>540015</td>\n",
              "      <td>20726</td>\n",
              "      <td>2011</td>\n",
              "      <td>1</td>\n",
              "      <td>2</td>\n",
              "      <td>11</td>\n",
              "      <td>lunch bag woodland</td>\n",
              "      <td>10</td>\n",
              "      <td>2011-01-04 11:40:00</td>\n",
              "      <td>1.65</td>\n",
              "      <td>13319</td>\n",
              "      <td>United Kingdom</td>\n",
              "      <td>16.50</td>\n",
              "    </tr>\n",
              "    <tr>\n",
              "      <td>26512</td>\n",
              "      <td>42851</td>\n",
              "      <td>540023</td>\n",
              "      <td>22382</td>\n",
              "      <td>2011</td>\n",
              "      <td>1</td>\n",
              "      <td>2</td>\n",
              "      <td>12</td>\n",
              "      <td>lunch bag spaceboy design</td>\n",
              "      <td>2</td>\n",
              "      <td>2011-01-04 12:58:00</td>\n",
              "      <td>1.65</td>\n",
              "      <td>15039</td>\n",
              "      <td>United Kingdom</td>\n",
              "      <td>3.30</td>\n",
              "    </tr>\n",
              "    <tr>\n",
              "      <td>26513</td>\n",
              "      <td>42852</td>\n",
              "      <td>540023</td>\n",
              "      <td>20726</td>\n",
              "      <td>2011</td>\n",
              "      <td>1</td>\n",
              "      <td>2</td>\n",
              "      <td>12</td>\n",
              "      <td>lunch bag woodland</td>\n",
              "      <td>1</td>\n",
              "      <td>2011-01-04 12:58:00</td>\n",
              "      <td>1.65</td>\n",
              "      <td>15039</td>\n",
              "      <td>United Kingdom</td>\n",
              "      <td>1.65</td>\n",
              "    </tr>\n",
              "    <tr>\n",
              "      <td>26860</td>\n",
              "      <td>43616</td>\n",
              "      <td>540098</td>\n",
              "      <td>22384</td>\n",
              "      <td>2011</td>\n",
              "      <td>1</td>\n",
              "      <td>2</td>\n",
              "      <td>15</td>\n",
              "      <td>lunch bag pink polkadot</td>\n",
              "      <td>1</td>\n",
              "      <td>2011-01-04 15:50:00</td>\n",
              "      <td>1.65</td>\n",
              "      <td>16241</td>\n",
              "      <td>United Kingdom</td>\n",
              "      <td>1.65</td>\n",
              "    </tr>\n",
              "  </tbody>\n",
              "</table>\n",
              "</div>"
            ],
            "text/plain": [
              "       Unnamed: 0  InvoiceNo StockCode  year  month  day  hour  \\\n",
              "26340       42678     540015     20725  2011      1    2    11   \n",
              "26341       42679     540015     20726  2011      1    2    11   \n",
              "26512       42851     540023     22382  2011      1    2    12   \n",
              "26513       42852     540023     20726  2011      1    2    12   \n",
              "26860       43616     540098     22384  2011      1    2    15   \n",
              "\n",
              "                     Description  Quantity          InvoiceDate  UnitPrice  \\\n",
              "26340    lunch bag red retrospot        10  2011-01-04 11:40:00       1.65   \n",
              "26341         lunch bag woodland        10  2011-01-04 11:40:00       1.65   \n",
              "26512  lunch bag spaceboy design         2  2011-01-04 12:58:00       1.65   \n",
              "26513         lunch bag woodland         1  2011-01-04 12:58:00       1.65   \n",
              "26860    lunch bag pink polkadot         1  2011-01-04 15:50:00       1.65   \n",
              "\n",
              "       CustomerID         Country  amount_spent  \n",
              "26340       13319  United Kingdom         16.50  \n",
              "26341       13319  United Kingdom         16.50  \n",
              "26512       15039  United Kingdom          3.30  \n",
              "26513       15039  United Kingdom          1.65  \n",
              "26860       16241  United Kingdom          1.65  "
            ]
          },
          "execution_count": 123,
          "metadata": {},
          "output_type": "execute_result"
        }
      ],
      "source": [
        "# your code here\n",
        "orders[(orders['Description'].str.startswith('lunch bag')) & (orders['year'] == 2011)].head()"
      ]
    },
    {
      "cell_type": "markdown",
      "metadata": {
        "id": "hZ7s5Cfc_BFy"
      },
      "source": [
        "#### Show the frequency distribution of the amount spent in Spain."
      ]
    },
    {
      "cell_type": "code",
      "execution_count": null,
      "metadata": {
        "id": "cJWjgQWn_BFy",
        "outputId": "62d19d01-8094-4f1d-c38e-227aa62241b7"
      },
      "outputs": [
        {
          "data": {
            "text/plain": [
              "<AxesSubplot:>"
            ]
          },
          "execution_count": 125,
          "metadata": {},
          "output_type": "execute_result"
        },
        {
          "data": {
            "image/png": "[encoded data removed]",
            "text/plain": [
              "<Figure size 432x288 with 1 Axes>"
            ]
          },
          "metadata": {
            "needs_background": "light"
          },
          "output_type": "display_data"
        }
      ],
      "source": [
        "# your code here\n",
        "orders[orders['Country'] == 'Spain']['amount_spent'].hist(bins=50)"
      ]
    },
    {
      "cell_type": "markdown",
      "metadata": {
        "id": "_g5PoODU_BFy"
      },
      "source": [
        "#### Select all orders made in the month of August."
      ]
    },
    {
      "cell_type": "code",
      "execution_count": null,
      "metadata": {
        "id": "88M9L_fb_BFy",
        "outputId": "055bcf79-d2c3-48e8-b939-1381fce31390"
      },
      "outputs": [
        {
          "data": {
            "text/html": [
              "<div>\n",
              "<style scoped>\n",
              "    .dataframe tbody tr th:only-of-type {\n",
              "        vertical-align: middle;\n",
              "    }\n",
              "\n",
              "    .dataframe tbody tr th {\n",
              "        vertical-align: top;\n",
              "    }\n",
              "\n",
              "    .dataframe thead th {\n",
              "        text-align: right;\n",
              "    }\n",
              "</style>\n",
              "<table border=\"1\" class=\"dataframe\">\n",
              "  <thead>\n",
              "    <tr style=\"text-align: right;\">\n",
              "      <th></th>\n",
              "      <th>Unnamed: 0</th>\n",
              "      <th>InvoiceNo</th>\n",
              "      <th>StockCode</th>\n",
              "      <th>year</th>\n",
              "      <th>month</th>\n",
              "      <th>day</th>\n",
              "      <th>hour</th>\n",
              "      <th>Description</th>\n",
              "      <th>Quantity</th>\n",
              "      <th>InvoiceDate</th>\n",
              "      <th>UnitPrice</th>\n",
              "      <th>CustomerID</th>\n",
              "      <th>Country</th>\n",
              "      <th>amount_spent</th>\n",
              "    </tr>\n",
              "  </thead>\n",
              "  <tbody>\n",
              "    <tr>\n",
              "      <td>199475</td>\n",
              "      <td>285421</td>\n",
              "      <td>561904</td>\n",
              "      <td>22075</td>\n",
              "      <td>2011</td>\n",
              "      <td>8</td>\n",
              "      <td>1</td>\n",
              "      <td>8</td>\n",
              "      <td>6 ribbons elegant christmas</td>\n",
              "      <td>96</td>\n",
              "      <td>2011-08-01 8:30:00</td>\n",
              "      <td>1.45</td>\n",
              "      <td>17941</td>\n",
              "      <td>United Kingdom</td>\n",
              "      <td>139.20</td>\n",
              "    </tr>\n",
              "    <tr>\n",
              "      <td>199476</td>\n",
              "      <td>285422</td>\n",
              "      <td>561904</td>\n",
              "      <td>85049E</td>\n",
              "      <td>2011</td>\n",
              "      <td>8</td>\n",
              "      <td>1</td>\n",
              "      <td>8</td>\n",
              "      <td>scandinavian reds ribbons</td>\n",
              "      <td>156</td>\n",
              "      <td>2011-08-01 8:30:00</td>\n",
              "      <td>1.06</td>\n",
              "      <td>17941</td>\n",
              "      <td>United Kingdom</td>\n",
              "      <td>165.36</td>\n",
              "    </tr>\n",
              "    <tr>\n",
              "      <td>199477</td>\n",
              "      <td>285423</td>\n",
              "      <td>561905</td>\n",
              "      <td>21385</td>\n",
              "      <td>2011</td>\n",
              "      <td>8</td>\n",
              "      <td>1</td>\n",
              "      <td>9</td>\n",
              "      <td>ivory hanging decoration  heart</td>\n",
              "      <td>24</td>\n",
              "      <td>2011-08-01 9:31:00</td>\n",
              "      <td>0.85</td>\n",
              "      <td>14947</td>\n",
              "      <td>United Kingdom</td>\n",
              "      <td>20.40</td>\n",
              "    </tr>\n",
              "    <tr>\n",
              "      <td>199478</td>\n",
              "      <td>285424</td>\n",
              "      <td>561905</td>\n",
              "      <td>84970L</td>\n",
              "      <td>2011</td>\n",
              "      <td>8</td>\n",
              "      <td>1</td>\n",
              "      <td>9</td>\n",
              "      <td>single heart zinc t-light holder</td>\n",
              "      <td>12</td>\n",
              "      <td>2011-08-01 9:31:00</td>\n",
              "      <td>0.95</td>\n",
              "      <td>14947</td>\n",
              "      <td>United Kingdom</td>\n",
              "      <td>11.40</td>\n",
              "    </tr>\n",
              "    <tr>\n",
              "      <td>199479</td>\n",
              "      <td>285425</td>\n",
              "      <td>561905</td>\n",
              "      <td>84970S</td>\n",
              "      <td>2011</td>\n",
              "      <td>8</td>\n",
              "      <td>1</td>\n",
              "      <td>9</td>\n",
              "      <td>hanging heart zinc t-light holder</td>\n",
              "      <td>12</td>\n",
              "      <td>2011-08-01 9:31:00</td>\n",
              "      <td>0.85</td>\n",
              "      <td>14947</td>\n",
              "      <td>United Kingdom</td>\n",
              "      <td>10.20</td>\n",
              "    </tr>\n",
              "  </tbody>\n",
              "</table>\n",
              "</div>"
            ],
            "text/plain": [
              "        Unnamed: 0  InvoiceNo StockCode  year  month  day  hour  \\\n",
              "199475      285421     561904     22075  2011      8    1     8   \n",
              "199476      285422     561904    85049E  2011      8    1     8   \n",
              "199477      285423     561905     21385  2011      8    1     9   \n",
              "199478      285424     561905    84970L  2011      8    1     9   \n",
              "199479      285425     561905    84970S  2011      8    1     9   \n",
              "\n",
              "                              Description  Quantity         InvoiceDate  \\\n",
              "199475        6 ribbons elegant christmas        96  2011-08-01 8:30:00   \n",
              "199476          scandinavian reds ribbons       156  2011-08-01 8:30:00   \n",
              "199477    ivory hanging decoration  heart        24  2011-08-01 9:31:00   \n",
              "199478   single heart zinc t-light holder        12  2011-08-01 9:31:00   \n",
              "199479  hanging heart zinc t-light holder        12  2011-08-01 9:31:00   \n",
              "\n",
              "        UnitPrice  CustomerID         Country  amount_spent  \n",
              "199475       1.45       17941  United Kingdom        139.20  \n",
              "199476       1.06       17941  United Kingdom        165.36  \n",
              "199477       0.85       14947  United Kingdom         20.40  \n",
              "199478       0.95       14947  United Kingdom         11.40  \n",
              "199479       0.85       14947  United Kingdom         10.20  "
            ]
          },
          "execution_count": 126,
          "metadata": {},
          "output_type": "execute_result"
        }
      ],
      "source": [
        "# your code here\n",
        "orders[orders['month'] == 8].head()"
      ]
    },
    {
      "cell_type": "markdown",
      "metadata": {
        "id": "7SBiJN5z_BFy"
      },
      "source": [
        "#### Find the number of orders made by each country in the month of August.\n",
        "**Hint**: Use value_counts()."
      ]
    },
    {
      "cell_type": "code",
      "execution_count": null,
      "metadata": {
        "id": "X9nOqf9H_BFy",
        "outputId": "dec4f025-ffeb-4f54-e3fa-1ccf5ac5dfad"
      },
      "outputs": [
        {
          "data": {
            "text/plain": [
              "United Kingdom     23105\n",
              "Germany              795\n",
              "EIRE                 593\n",
              "France               569\n",
              "Netherlands          280\n",
              "Switzerland          267\n",
              "Spain                252\n",
              "Belgium              194\n",
              "Israel               171\n",
              "Channel Islands      140\n",
              "Australia            107\n",
              "Italy                 95\n",
              "Austria               88\n",
              "Norway                77\n",
              "Finland               61\n",
              "Malta                 55\n",
              "Portugal              41\n",
              "Sweden                40\n",
              "Unspecified           23\n",
              "Iceland               22\n",
              "Poland                17\n",
              "Denmark               16\n",
              "Canada                 5\n",
              "Name: Country, dtype: int64"
            ]
          },
          "execution_count": 128,
          "metadata": {},
          "output_type": "execute_result"
        }
      ],
      "source": [
        "# your code here\n",
        "orders[orders['month'] == 8]['Country'].value_counts()"
      ]
    },
    {
      "cell_type": "markdown",
      "metadata": {
        "id": "yXvaTNcB_BFy"
      },
      "source": [
        "#### What's the  average amount of money spent by country?"
      ]
    },
    {
      "cell_type": "code",
      "execution_count": null,
      "metadata": {
        "id": "Y76IWg5V_BFy",
        "outputId": "3c97eb33-92db-4249-c8d7-1dd7403005e0"
      },
      "outputs": [
        {
          "data": {
            "text/plain": [
              "Country\n",
              "Australia               116.895620\n",
              "Austria                  25.624824\n",
              "Bahrain                  32.258824\n",
              "Belgium                  20.283772\n",
              "Brazil                   35.737500\n",
              "Canada                   24.280662\n",
              "Channel Islands          27.340160\n",
              "Cyprus                   22.134169\n",
              "Czech Republic           33.069600\n",
              "Denmark                  49.882474\n",
              "EIRE                     36.687745\n",
              "European Community       21.670833\n",
              "Finland                  32.913985\n",
              "France                   25.056827\n",
              "Germany                  25.311562\n",
              "Greece                   32.831172\n",
              "Iceland                  23.681319\n",
              "Israel                   29.119718\n",
              "Italy                    23.064960\n",
              "Japan                   116.561900\n",
              "Lebanon                  37.641778\n",
              "Lithuania                47.458857\n",
              "Malta                    24.335625\n",
              "Netherlands             120.798282\n",
              "Norway                   33.736418\n",
              "Poland                   22.226212\n",
              "Portugal                 22.872702\n",
              "RSA                      17.281207\n",
              "Saudi Arabia             16.213333\n",
              "Singapore                95.852658\n",
              "Spain                    24.779521\n",
              "Sweden                   85.096075\n",
              "Switzerland              30.642752\n",
              "USA                      20.002179\n",
              "United Arab Emirates     27.974706\n",
              "United Kingdom           20.625073\n",
              "Unspecified              10.930615\n",
              "Name: amount_spent, dtype: float64"
            ]
          },
          "execution_count": 129,
          "metadata": {},
          "output_type": "execute_result"
        }
      ],
      "source": [
        "# your code here\n",
        "orders.groupby('Country').mean()['amount_spent']"
      ]
    },
    {
      "cell_type": "markdown",
      "metadata": {
        "id": "Gt5GASec_BFy"
      },
      "source": [
        "#### What's the most expensive item?"
      ]
    },
    {
      "cell_type": "code",
      "execution_count": null,
      "metadata": {
        "id": "PNUz6wX3_BFy",
        "outputId": "081610e5-338b-4114-c547-fc54b826857b"
      },
      "outputs": [
        {
          "data": {
            "text/html": [
              "<div>\n",
              "<style scoped>\n",
              "    .dataframe tbody tr th:only-of-type {\n",
              "        vertical-align: middle;\n",
              "    }\n",
              "\n",
              "    .dataframe tbody tr th {\n",
              "        vertical-align: top;\n",
              "    }\n",
              "\n",
              "    .dataframe thead th {\n",
              "        text-align: right;\n",
              "    }\n",
              "</style>\n",
              "<table border=\"1\" class=\"dataframe\">\n",
              "  <thead>\n",
              "    <tr style=\"text-align: right;\">\n",
              "      <th></th>\n",
              "      <th>Unnamed: 0</th>\n",
              "      <th>InvoiceNo</th>\n",
              "      <th>StockCode</th>\n",
              "      <th>year</th>\n",
              "      <th>month</th>\n",
              "      <th>day</th>\n",
              "      <th>hour</th>\n",
              "      <th>Description</th>\n",
              "      <th>Quantity</th>\n",
              "      <th>InvoiceDate</th>\n",
              "      <th>UnitPrice</th>\n",
              "      <th>CustomerID</th>\n",
              "      <th>Country</th>\n",
              "      <th>amount_spent</th>\n",
              "    </tr>\n",
              "  </thead>\n",
              "  <tbody>\n",
              "    <tr>\n",
              "      <td>118352</td>\n",
              "      <td>173382</td>\n",
              "      <td>551697</td>\n",
              "      <td>POST</td>\n",
              "      <td>2011</td>\n",
              "      <td>5</td>\n",
              "      <td>2</td>\n",
              "      <td>13</td>\n",
              "      <td>postage</td>\n",
              "      <td>1</td>\n",
              "      <td>2011-05-03 13:46:00</td>\n",
              "      <td>8142.75</td>\n",
              "      <td>16029</td>\n",
              "      <td>United Kingdom</td>\n",
              "      <td>8142.75</td>\n",
              "    </tr>\n",
              "  </tbody>\n",
              "</table>\n",
              "</div>"
            ],
            "text/plain": [
              "        Unnamed: 0  InvoiceNo StockCode  year  month  day  hour Description  \\\n",
              "118352      173382     551697      POST  2011      5    2    13     postage   \n",
              "\n",
              "        Quantity          InvoiceDate  UnitPrice  CustomerID         Country  \\\n",
              "118352         1  2011-05-03 13:46:00    8142.75       16029  United Kingdom   \n",
              "\n",
              "        amount_spent  \n",
              "118352       8142.75  "
            ]
          },
          "execution_count": 130,
          "metadata": {},
          "output_type": "execute_result"
        }
      ],
      "source": [
        "# your code here\n",
        "orders[orders['UnitPrice'] == orders['UnitPrice'].max()]"
      ]
    },
    {
      "cell_type": "markdown",
      "metadata": {
        "id": "qs9OTzoO_BFy"
      },
      "source": [
        "#### What is the average amount spent per year?"
      ]
    },
    {
      "cell_type": "code",
      "execution_count": null,
      "metadata": {
        "id": "CLynFUtD_BFz",
        "outputId": "7592f33a-ff90-463e-c17d-fa8bd293a6eb"
      },
      "outputs": [
        {
          "data": {
            "text/plain": [
              "year\n",
              "2010    21.892733\n",
              "2011    22.430074\n",
              "Name: amount_spent, dtype: float64"
            ]
          },
          "execution_count": 131,
          "metadata": {},
          "output_type": "execute_result"
        }
      ],
      "source": [
        "# your code here\n",
        "orders.groupby('year').mean()['amount_spent']"
      ]
    },
    {
      "cell_type": "code",
      "execution_count": null,
      "metadata": {
        "id": "Wlsluctk_BFz"
      },
      "outputs": [],
      "source": []
    }
  ],
  "metadata": {
    "anaconda-cloud": {},
    "kernelspec": {
      "display_name": "Python 3",
      "language": "python",
      "name": "python3"
    },
    "language_info": {
      "codemirror_mode": {
        "name": "ipython",
        "version": 3
      },
      "file_extension": ".py",
      "mimetype": "text/x-python",
      "name": "python",
      "nbconvert_exporter": "python",
      "pygments_lexer": "ipython3",
      "version": "3.7.4"
    },
    "colab": {
      "provenance": []
    }
  },
  "nbformat": 4,
  "nbformat_minor": 0
}