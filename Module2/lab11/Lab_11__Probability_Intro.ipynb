{
  "cells": [
    {
      "cell_type": "markdown",
      "metadata": {
        "id": "6ppJ2F4Gt3bl"
      },
      "source": [
        "# Introduction To Probability\n",
        "## Challenge 1\n",
        "\n",
        "A and B are events of a probability space with $(\\omega, \\sigma, P)$ such that $P(A) = 0.3$, $P(B) = 0.6$ and $P(A \\cap B) = 0.1$\n",
        "\n",
        "Which of the following statements are false?\n",
        "* $P(A \\cup B) = 0.6$\n",
        "* $P(A \\cap B^{C}) = 0.2$\n",
        "* $P(A \\cap (B \\cup B^{C})) = 0.4$\n",
        "* $P(A^{C} \\cap B^{C}) = 0.3$\n",
        "* $P((A \\cap B)^{C}) = 0.9$"
      ]
    },
    {
      "cell_type": "markdown",
      "metadata": {
        "id": "iBs56vRLt3bq"
      },
      "source": [
        "𝑃(𝐴∪𝐵)=𝑃(𝐴)+𝑃(𝐵)−𝑃(𝐴∩𝐵)=0.3+0.6−0.1=0.8≠0.6→𝐹𝐴𝐿𝑆𝐸 \n",
        "\n",
        "𝑃(𝐴∩𝐵𝐶)=𝑃(𝐴)−𝑃(𝐴∩𝐵)=0.3−0.1=0.2→𝑇𝑅𝑈𝐸\n",
        "\n",
        "𝑃(𝐴∩(𝐵∪𝐵𝐶))=𝑃(𝐴)=0.3≠0.4→𝐹𝐴𝐿𝑆𝐸\n",
        "\n",
        "𝑃(𝐴𝐶∩𝐵𝐶)=1−𝑃(𝐴∪𝐵)=1−0.8=0.2≠0.3→𝐹𝐴𝐿𝑆𝐸\n",
        "\n",
        "𝑃((𝐴∩𝐵)𝐶)=1−𝑃(𝐴∩𝐵)=1−0.1=0.9→𝑇𝑅𝑈𝐸"
      ]
    },
    {
      "cell_type": "markdown",
      "metadata": {
        "id": "aMU2eK1yt3bq"
      },
      "source": [
        "## Challenge 2\n",
        "There is a box with 10 white balls, 12 red balls and 8 black balls. Calculate the probability of:\n",
        "* Taking a white ball out.\n",
        "* Taking a white ball out after taking a black ball out.\n",
        "* Taking a red ball out after taking a black and a red ball out.\n",
        "* Taking a red ball out after taking a black and a red ball out with reposition.\n",
        "\n",
        "**Hint**: Reposition means putting back the ball into the box after taking it out."
      ]
    },
    {
      "cell_type": "markdown",
      "metadata": {
        "id": "KuffSpCut3br"
      },
      "source": [
        "𝑃(𝑊)=𝑊/(𝑊+𝑅+𝐾)=10/(10+12+8)=0.3333333333333333 \n",
        "\n",
        "𝑃(𝐾∩𝑊)=𝑃(𝐾)·𝑃(𝑊|𝐾)=(8/30)(10/29)=0.09195402298850575\n",
        "\n",
        "𝑃(𝑅∩𝑅∩𝐾)=𝑃(𝑅∩𝐾)·𝑃(𝑅|𝑅∩𝐾)=𝑃(𝐾)·𝑃(𝑅|𝐾)·𝑃(𝑅|𝑅∩𝐾)=(8/30)·(12/29)·(11/28)=0.04334975369458128\n",
        "\n",
        "𝑃(𝑅∩𝑅∩𝐾)=𝑃(𝐾)·𝑃(𝑅)·𝑃(𝑅)=(8/30)·(12/30)·(12/30)=0.04266666666666667"
      ]
    },
    {
      "cell_type": "markdown",
      "metadata": {
        "id": "m8cvtqE5t3bs"
      },
      "source": [
        "## Challenge 3\n",
        "\n",
        "You are planning to go on a picnic today but the morning is cloudy. You hate rain so you don't know whether to go out or stay home! To help you make a decision, you gather the following data about rainy days:\n",
        "\n",
        "* 50% of all rainy days start off cloudy!\n",
        "* Cloudy mornings are common. About 40% of days start cloudy. \n",
        "* This month is usually dry so only 3 of 30 days (10%) tend to be rainy. \n",
        "\n",
        "What is the chance of rain during the day?"
      ]
    },
    {
      "cell_type": "markdown",
      "metadata": {
        "id": "ZllE8Sp4t3bs"
      },
      "source": [
        "According to Bayes Theorem:\n",
        "\n",
        "𝐴 : It rains\n",
        "\n",
        "𝐵 : It's cloudy\n",
        "\n",
        "𝑃(𝐴|𝐵)=𝑃(𝐵|𝐴)·𝑃(𝐴)/𝑃(𝐵)=0.5·0.1/0.4=0.125"
      ]
    },
    {
      "cell_type": "markdown",
      "metadata": {
        "id": "zeov9uzRt3bs"
      },
      "source": [
        "## Challenge 4\n",
        "\n",
        "One thousand people were asked through a telephone survey whether they thought more street lighting is needed at night or not.\n",
        "\n",
        "Out of the 480 men that answered the survey, 324 said yes and 156 said no. On the other hand, out of the 520 women that answered, 351 said yes and 169 said no. \n",
        "\n",
        "We wonder if men and women have a different opinions about the street lighting matter. Is gender relevant or irrelevant to the question?\n",
        "\n",
        "Consider the following events:\n",
        "- The answer is yes, so the person that answered thinks that more street lighting is needed.\n",
        "- The person who answered is a man.\n",
        "\n",
        "We want to know if these events are independent, that is, if the fact of wanting more light depends on whether one is male or female. Are these events independent or not?\n",
        "\n",
        "**Hint**: To clearly compare the answers by gender, it is best to place the data in a table."
      ]
    },
    {
      "cell_type": "markdown",
      "source": [
        "Probability of saying yes \n",
        "P(Y)=675/1000=0.675\n",
        "\n",
        "Probability of saying no:\n",
        "P(N)=325/1000=0.325\n",
        "\n",
        "Probability of being a men:\n",
        "P(M)=480/100=0.48\n",
        "\n",
        "Probability of being a women:\n",
        "P(W)=520/1000=0.52\n",
        "\n",
        "Probaiblity of being a men and saying yes \n",
        "P(M and Y)=324/1000=0.324\n",
        "\n",
        "I want to find probaility of saying yes if you are a men:\n",
        "P(Y|M)=P(Y and M)/ P(M)\n",
        "\n",
        "This is calculated in the cell below:\n",
        "\"\"\"\n"
      ],
      "metadata": {
        "id": "BKzKNXBWuj4P"
      }
    },
    {
      "cell_type": "code",
      "execution_count": null,
      "metadata": {
        "id": "5JY_pu9wt3bt",
        "outputId": "f3dd28fc-92ad-456f-9193-776a2ed973ca"
      },
      "outputs": [
        {
          "data": {
            "text/html": [
              "<div>\n",
              "<style scoped>\n",
              "    .dataframe tbody tr th:only-of-type {\n",
              "        vertical-align: middle;\n",
              "    }\n",
              "\n",
              "    .dataframe tbody tr th {\n",
              "        vertical-align: top;\n",
              "    }\n",
              "\n",
              "    .dataframe thead th {\n",
              "        text-align: right;\n",
              "    }\n",
              "</style>\n",
              "<table border=\"1\" class=\"dataframe\">\n",
              "  <thead>\n",
              "    <tr style=\"text-align: right;\">\n",
              "      <th></th>\n",
              "      <th>Yes</th>\n",
              "      <th>No</th>\n",
              "    </tr>\n",
              "  </thead>\n",
              "  <tbody>\n",
              "    <tr>\n",
              "      <td>Men</td>\n",
              "      <td>0.675</td>\n",
              "      <td>0.325</td>\n",
              "    </tr>\n",
              "    <tr>\n",
              "      <td>Women</td>\n",
              "      <td>0.675</td>\n",
              "      <td>0.325</td>\n",
              "    </tr>\n",
              "  </tbody>\n",
              "</table>\n",
              "</div>"
            ],
            "text/plain": [
              "         Yes     No\n",
              "Men    0.675  0.325\n",
              "Women  0.675  0.325"
            ]
          },
          "execution_count": 1,
          "metadata": {},
          "output_type": "execute_result"
        }
      ],
      "source": [
        "import pandas as pd\n",
        "pd.DataFrame({'Yes': [324/480, 351/520], 'No': [156/480, 169/520]}, index=['Men', 'Women'])"
      ]
    },
    {
      "cell_type": "markdown",
      "metadata": {
        "id": "VkNRUGR7t3bu"
      },
      "source": [
        "\"\"\"\n",
        "Comments: The answer doesn't depend on the gender. The events are independent.\n",
        "\"\"\""
      ]
    },
    {
      "cell_type": "code",
      "execution_count": null,
      "metadata": {
        "id": "hUuCvOjet3bv"
      },
      "outputs": [],
      "source": []
    }
  ],
  "metadata": {
    "kernelspec": {
      "display_name": "Python 3",
      "language": "python",
      "name": "python3"
    },
    "language_info": {
      "codemirror_mode": {
        "name": "ipython",
        "version": 3
      },
      "file_extension": ".py",
      "mimetype": "text/x-python",
      "name": "python",
      "nbconvert_exporter": "python",
      "pygments_lexer": "ipython3",
      "version": "3.7.4"
    },
    "colab": {
      "provenance": [],
      "collapsed_sections": []
    }
  },
  "nbformat": 4,
  "nbformat_minor": 0
}